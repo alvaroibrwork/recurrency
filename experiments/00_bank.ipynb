{
 "cells": [
  {
   "cell_type": "code",
   "execution_count": 22,
   "id": "06bd49e1-2504-4d31-be72-d7395482f3ab",
   "metadata": {},
   "outputs": [
    {
     "name": "stdout",
     "output_type": "stream",
     "text": [
      "The autoreload extension is already loaded. To reload it, use:\n",
      "  %reload_ext autoreload\n"
     ]
    }
   ],
   "source": [
    "%load_ext autoreload\n",
    "%autoreload 2"
   ]
  },
  {
   "cell_type": "code",
   "execution_count": 23,
   "id": "e5d9ee45-05ac-4a42-bc15-abb5a10a41ec",
   "metadata": {},
   "outputs": [],
   "source": [
    "BASE_DATA_PATH = '../datasets/transaction_bank_data.pqt'"
   ]
  },
  {
   "cell_type": "code",
   "execution_count": 24,
   "id": "3ba90f26-7e8d-40ba-bc80-0b8b0b8c8152",
   "metadata": {},
   "outputs": [],
   "source": [
    "import dbscanmethod\n",
    "import graphsmethod as graphmethod\n",
    "import matrixmethod\n",
    "from yousi import DetectRecurrencyII\n",
    "\n",
    "import pandas as pd\n",
    "import numpy as np\n",
    "import seaborn as sns\n",
    "import matplotlib.pyplot as plt"
   ]
  },
  {
   "cell_type": "code",
   "execution_count": 25,
   "id": "0f2599b1-c527-42ec-ac18-326c3f1121c3",
   "metadata": {},
   "outputs": [],
   "source": [
    "df = pd.read_parquet(BASE_DATA_PATH)"
   ]
  },
  {
   "cell_type": "code",
   "execution_count": 26,
   "id": "aa4f3b96-2b41-4bb5-8018-537f88c0df73",
   "metadata": {},
   "outputs": [
    {
     "data": {
      "text/html": [
       "<div>\n",
       "<style scoped>\n",
       "    .dataframe tbody tr th:only-of-type {\n",
       "        vertical-align: middle;\n",
       "    }\n",
       "\n",
       "    .dataframe tbody tr th {\n",
       "        vertical-align: top;\n",
       "    }\n",
       "\n",
       "    .dataframe thead th {\n",
       "        text-align: right;\n",
       "    }\n",
       "</style>\n",
       "<table border=\"1\" class=\"dataframe\">\n",
       "  <thead>\n",
       "    <tr style=\"text-align: right;\">\n",
       "      <th></th>\n",
       "      <th>payment_channel</th>\n",
       "      <th>amount</th>\n",
       "      <th>date</th>\n",
       "    </tr>\n",
       "  </thead>\n",
       "  <tbody>\n",
       "    <tr>\n",
       "      <th>0</th>\n",
       "      <td>616-1147-19-6</td>\n",
       "      <td>146.00</td>\n",
       "      <td>2022-05-23</td>\n",
       "    </tr>\n",
       "    <tr>\n",
       "      <th>1</th>\n",
       "      <td>7238-98788-61-5</td>\n",
       "      <td>71.20</td>\n",
       "      <td>2023-07-06</td>\n",
       "    </tr>\n",
       "    <tr>\n",
       "      <th>2</th>\n",
       "      <td>7238-67640-61-5</td>\n",
       "      <td>14.59</td>\n",
       "      <td>2023-09-16</td>\n",
       "    </tr>\n",
       "    <tr>\n",
       "      <th>3</th>\n",
       "      <td>7238-127156-61-5</td>\n",
       "      <td>15.55</td>\n",
       "      <td>2023-04-29</td>\n",
       "    </tr>\n",
       "    <tr>\n",
       "      <th>4</th>\n",
       "      <td>7238-54956-61-5</td>\n",
       "      <td>21.30</td>\n",
       "      <td>2023-09-04</td>\n",
       "    </tr>\n",
       "  </tbody>\n",
       "</table>\n",
       "</div>"
      ],
      "text/plain": [
       "    payment_channel  amount        date\n",
       "0     616-1147-19-6  146.00  2022-05-23\n",
       "1   7238-98788-61-5   71.20  2023-07-06\n",
       "2   7238-67640-61-5   14.59  2023-09-16\n",
       "3  7238-127156-61-5   15.55  2023-04-29\n",
       "4   7238-54956-61-5   21.30  2023-09-04"
      ]
     },
     "execution_count": 26,
     "metadata": {},
     "output_type": "execute_result"
    }
   ],
   "source": [
    "df.head()"
   ]
  },
  {
   "cell_type": "code",
   "execution_count": 27,
   "id": "b99bc39e-95e3-429b-b37b-1a0f187962bd",
   "metadata": {},
   "outputs": [
    {
     "data": {
      "text/plain": [
       "611065"
      ]
     },
     "execution_count": 27,
     "metadata": {},
     "output_type": "execute_result"
    }
   ],
   "source": [
    "len(df)"
   ]
  },
  {
   "cell_type": "code",
   "execution_count": 28,
   "id": "3f482266-022b-4aa8-8eb5-142905d29c7e",
   "metadata": {},
   "outputs": [
    {
     "name": "stdout",
     "output_type": "stream",
     "text": [
      "Taking last 100 of each payment_channel...\n",
      "Computing diffdays...\n"
     ]
    }
   ],
   "source": [
    "df = df.sort_values(['payment_channel', 'date'])\n",
    "posid = df.groupby(['payment_channel'])\\\n",
    "            .cumcount().rename('group_position')\n",
    "\n",
    "df = df.join(posid)\n",
    "\n",
    "df['amount'] = df['amount'].abs()\n",
    "#df['date'] = pd.to_datetime(df['date'].astype(str), format='%y%m%d')\n",
    "df['date'] = pd.to_datetime(df['date'])\n",
    "\n",
    "print(f\"Taking last {100} of each payment_channel...\")\n",
    "df = df.groupby('payment_channel').tail(100)\n",
    "\n",
    "# Remove payment channels with too few transactions\n",
    "cnts = df.groupby('payment_channel')['payment_channel'].count().sort_values(ascending=True)\n",
    "df = df.loc[df['payment_channel'].isin(cnts[cnts > 4].index)]\n",
    "\n",
    "print(\"Computing diffdays...\")\n",
    "# compute diffdays\n",
    "lelele = df.sort_values(['payment_channel', 'date'])\\\n",
    "    .groupby('payment_channel')['date']\\\n",
    "    .diff(1).dt.days\\\n",
    "    .fillna(0)\\\n",
    "    .abs()\n",
    "\n",
    "df = df.join(lelele.rename('datediff'))\n",
    "\n",
    "df = df.sort_values(['payment_channel', 'date']).reset_index(drop=True)\n",
    "\n",
    "df_ori = df.copy()"
   ]
  },
  {
   "cell_type": "code",
   "execution_count": null,
   "id": "d513cf75-a47d-4b86-b5e0-86d86f09c5da",
   "metadata": {},
   "outputs": [],
   "source": []
  },
  {
   "cell_type": "code",
   "execution_count": null,
   "id": "325c8380-42f7-4b20-a025-69a2900691d4",
   "metadata": {},
   "outputs": [],
   "source": []
  },
  {
   "cell_type": "markdown",
   "id": "2e7bb1c8-bc2a-467e-8be6-b8772cfe4d98",
   "metadata": {},
   "source": [
    "### Filtering methods. (See comments for knowing what method is being executed)"
   ]
  },
  {
   "cell_type": "code",
   "execution_count": 29,
   "id": "e340c277-4f7a-4c6c-ac46-01c24ace9f66",
   "metadata": {},
   "outputs": [
    {
     "name": "stderr",
     "output_type": "stream",
     "text": [
      "100%|███████████████████████████████████████████████████████████████████████████████████████████████████████████████████████████████████████████████████████████████████████████████| 46238/46238 [01:37<00:00, 471.97it/s]\n"
     ]
    },
    {
     "name": "stdout",
     "output_type": "stream",
     "text": [
      "Percentage of non-recurrent points using DBSCAN: 0.7392646704289466\n",
      "CPU times: user 1min 40s, sys: 4.01 s, total: 1min 44s\n",
      "Wall time: 1min 43s\n"
     ]
    }
   ],
   "source": [
    "%%time\n",
    "#DBSCAN  ######################################################################\n",
    "df = dbscanmethod.main_dbscan_method(df_ori, eps_date=.05, eps_amount=.1)\n",
    "df['cluster_id'] = (df['amount_lvl'].astype(int).astype(str)) + '-' +  df['day_cluster'].astype(int).astype(str)\n",
    "\n",
    "print(f\"Percentage of non-recurrent points using DBSCAN: {len(df[df.is_rec == 0]) / len(df)}\")\n",
    "\n",
    "df.to_parquet('filtered_dbscan.pqt')"
   ]
  },
  {
   "cell_type": "code",
   "execution_count": 30,
   "id": "b607608a-af0f-4095-b71e-349ce9d55599",
   "metadata": {},
   "outputs": [
    {
     "name": "stdout",
     "output_type": "stream",
     "text": [
      "Percentage of non-recurrent points using GRAPH: 0.4457757304431005\n",
      "CPU times: user 7min 23s, sys: 2.11 s, total: 7min 25s\n",
      "Wall time: 7min 31s\n"
     ]
    }
   ],
   "source": [
    "%%time\n",
    "# GRAPHS  ######################################################################\n",
    "def flag_matrix(dates, amounts):    \n",
    "    dates = np.array(dates).astype(np.datetime64)\n",
    "    amounts = np.array(amounts)\n",
    "    \n",
    "    datediffs_to_previous = np.diff(dates).astype('timedelta64[D]')\n",
    "    datediffs_to_previous = datediffs_to_previous/ np.timedelta64(1, 'D')\n",
    "    subseries = graphmethod.main_matrix_method_graphs(datediffs_to_previous, amounts, use_dbscan=False)\n",
    "\n",
    "    flags = np.ones(len(dates)) * -1\n",
    "\n",
    "    # Return array with subseries ids (eg: [0,1,1,1,1,1,0,0,2,0,2,2,2,2])\n",
    "    l = list(enumerate(subseries))\n",
    "    for i, indices in l:\n",
    "        flags[indices] = i\n",
    "\n",
    "    return flags\n",
    "\n",
    "    \n",
    "def matrix_udf_graphs(data):\n",
    "    dates = data.date.values\n",
    "    amounts = data.amount.values\n",
    "    orders = data.group_position.values\n",
    "    \n",
    "    subseries_ids = flag_matrix(dates, amounts)\n",
    "    \n",
    "    return pd.Series({'cluster_id': subseries_ids, 'group_position': orders})\n",
    "\n",
    "\n",
    "bin_nbs = df_ori.sort_values(['payment_channel', 'date'])\\\n",
    "    .groupby(['payment_channel'])\\\n",
    "    .apply(matrix_udf_graphs)\\\n",
    "    .explode(['cluster_id', 'group_position'])\n",
    "\n",
    "df = pd.merge(df_ori, bin_nbs, on=['payment_channel', 'group_position'])\n",
    "df['cluster_id'] = df.cluster_id.astype(int)\n",
    "df['is_rec'] = (df['cluster_id'] >= 0).astype(int)\n",
    "\n",
    "\n",
    "print(f\"Percentage of non-recurrent points using GRAPH: {len(df[df.is_rec == 0]) / len(df)}\")\n",
    "\n",
    "df.to_parquet('filtered_graphs.pqt')"
   ]
  },
  {
   "cell_type": "code",
   "execution_count": 31,
   "id": "3714e172-996c-49df-bf05-8b8076036835",
   "metadata": {},
   "outputs": [
    {
     "name": "stdout",
     "output_type": "stream",
     "text": [
      "Percentage of non-recurrent points using MATRIX: 0.6309561150873991\n",
      "CPU times: user 1min 5s, sys: 517 ms, total: 1min 6s\n",
      "Wall time: 1min 8s\n"
     ]
    }
   ],
   "source": [
    "%%time\n",
    "\n",
    "# MATRIX  ######################################################################\n",
    "def matrix_flag(data):\n",
    "    diff_days = data['datediff'].values[1:]\n",
    "    #diff_days = data['date'].diff(1).dt.days.dropna().values\n",
    "    amounts = data['amount'].values\n",
    "    orders = data.group_position.values\n",
    "    \n",
    "    #subseries = split_series_cluster(diff_days, amounts, dates, centroids)\n",
    "\n",
    "    subseries = matrixmethod.main_matrix_method(diff_days, amounts, use_dbscan=False)\n",
    "    \n",
    "    flags = np.ones(len(data)) * -1\n",
    "\n",
    "    # Return array with subseries ids (eg: [0,1,1,1,1,1,0,0,2,0,2,2,2,2])\n",
    "    l = list(enumerate(subseries))\n",
    "    for i, indices in l:\n",
    "        flags[indices] = i\n",
    "\n",
    "    return pd.Series({'cluster_id': flags, 'group_position': orders})\n",
    "\n",
    "# Matrix Method\n",
    "bin_nbs = df_ori.sort_values(['payment_channel', 'date'])\\\n",
    "    .groupby(['payment_channel'])\\\n",
    "    .apply(matrix_flag)\\\n",
    "    .explode(['cluster_id', 'group_position'])\n",
    "\n",
    "df = pd.merge(df_ori, bin_nbs, on=['payment_channel', 'group_position'])\n",
    "df['cluster_id'] = df.cluster_id.astype(int)\n",
    "df['is_rec'] = (df['cluster_id'] >= 0).astype(int)\n",
    "\n",
    "print(f\"Percentage of non-recurrent points using MATRIX: {len(df[df.is_rec == 0]) / len(df)}\")\n",
    "\n",
    "df.to_parquet('filtered_matrix.pqt')"
   ]
  },
  {
   "cell_type": "code",
   "execution_count": null,
   "id": "affc09da-794e-4814-93c9-57986f018896",
   "metadata": {},
   "outputs": [],
   "source": []
  },
  {
   "cell_type": "code",
   "execution_count": 32,
   "id": "47b04451-c059-4a19-a855-ee313b6e6db2",
   "metadata": {},
   "outputs": [
    {
     "data": {
      "text/html": [
       "<div>\n",
       "<style scoped>\n",
       "    .dataframe tbody tr th:only-of-type {\n",
       "        vertical-align: middle;\n",
       "    }\n",
       "\n",
       "    .dataframe tbody tr th {\n",
       "        vertical-align: top;\n",
       "    }\n",
       "\n",
       "    .dataframe thead th {\n",
       "        text-align: right;\n",
       "    }\n",
       "</style>\n",
       "<table border=\"1\" class=\"dataframe\">\n",
       "  <thead>\n",
       "    <tr style=\"text-align: right;\">\n",
       "      <th></th>\n",
       "      <th>payment_channel</th>\n",
       "      <th>amount</th>\n",
       "      <th>date</th>\n",
       "      <th>group_position</th>\n",
       "      <th>datediff</th>\n",
       "      <th>cluster_id</th>\n",
       "      <th>is_rec</th>\n",
       "    </tr>\n",
       "  </thead>\n",
       "  <tbody>\n",
       "    <tr>\n",
       "      <th>0</th>\n",
       "      <td>1-106906-29-6</td>\n",
       "      <td>2750.0</td>\n",
       "      <td>2021-12-21</td>\n",
       "      <td>0</td>\n",
       "      <td>0.0</td>\n",
       "      <td>1</td>\n",
       "      <td>1</td>\n",
       "    </tr>\n",
       "    <tr>\n",
       "      <th>1</th>\n",
       "      <td>1-106906-29-6</td>\n",
       "      <td>600.0</td>\n",
       "      <td>2022-01-27</td>\n",
       "      <td>1</td>\n",
       "      <td>37.0</td>\n",
       "      <td>1</td>\n",
       "      <td>1</td>\n",
       "    </tr>\n",
       "    <tr>\n",
       "      <th>2</th>\n",
       "      <td>1-106906-29-6</td>\n",
       "      <td>600.0</td>\n",
       "      <td>2022-02-24</td>\n",
       "      <td>2</td>\n",
       "      <td>28.0</td>\n",
       "      <td>1</td>\n",
       "      <td>1</td>\n",
       "    </tr>\n",
       "    <tr>\n",
       "      <th>3</th>\n",
       "      <td>1-106906-29-6</td>\n",
       "      <td>747.7</td>\n",
       "      <td>2022-03-29</td>\n",
       "      <td>3</td>\n",
       "      <td>33.0</td>\n",
       "      <td>1</td>\n",
       "      <td>1</td>\n",
       "    </tr>\n",
       "    <tr>\n",
       "      <th>4</th>\n",
       "      <td>1-106906-29-6</td>\n",
       "      <td>600.0</td>\n",
       "      <td>2022-04-27</td>\n",
       "      <td>4</td>\n",
       "      <td>29.0</td>\n",
       "      <td>1</td>\n",
       "      <td>1</td>\n",
       "    </tr>\n",
       "    <tr>\n",
       "      <th>...</th>\n",
       "      <td>...</td>\n",
       "      <td>...</td>\n",
       "      <td>...</td>\n",
       "      <td>...</td>\n",
       "      <td>...</td>\n",
       "      <td>...</td>\n",
       "      <td>...</td>\n",
       "    </tr>\n",
       "    <tr>\n",
       "      <th>385754</th>\n",
       "      <td>9998-57780-61-5</td>\n",
       "      <td>55.5</td>\n",
       "      <td>2022-07-02</td>\n",
       "      <td>0</td>\n",
       "      <td>0.0</td>\n",
       "      <td>-1</td>\n",
       "      <td>0</td>\n",
       "    </tr>\n",
       "    <tr>\n",
       "      <th>385755</th>\n",
       "      <td>9998-57780-61-5</td>\n",
       "      <td>232.5</td>\n",
       "      <td>2022-09-30</td>\n",
       "      <td>1</td>\n",
       "      <td>90.0</td>\n",
       "      <td>-1</td>\n",
       "      <td>0</td>\n",
       "    </tr>\n",
       "    <tr>\n",
       "      <th>385756</th>\n",
       "      <td>9998-57780-61-5</td>\n",
       "      <td>290.5</td>\n",
       "      <td>2023-08-15</td>\n",
       "      <td>2</td>\n",
       "      <td>319.0</td>\n",
       "      <td>-1</td>\n",
       "      <td>0</td>\n",
       "    </tr>\n",
       "    <tr>\n",
       "      <th>385757</th>\n",
       "      <td>9998-57780-61-5</td>\n",
       "      <td>115.5</td>\n",
       "      <td>2023-12-01</td>\n",
       "      <td>3</td>\n",
       "      <td>108.0</td>\n",
       "      <td>-1</td>\n",
       "      <td>0</td>\n",
       "    </tr>\n",
       "    <tr>\n",
       "      <th>385758</th>\n",
       "      <td>9998-57780-61-5</td>\n",
       "      <td>115.5</td>\n",
       "      <td>2023-12-05</td>\n",
       "      <td>4</td>\n",
       "      <td>4.0</td>\n",
       "      <td>-1</td>\n",
       "      <td>0</td>\n",
       "    </tr>\n",
       "  </tbody>\n",
       "</table>\n",
       "<p>385759 rows × 7 columns</p>\n",
       "</div>"
      ],
      "text/plain": [
       "        payment_channel  amount       date group_position  datediff  \\\n",
       "0         1-106906-29-6  2750.0 2021-12-21              0       0.0   \n",
       "1         1-106906-29-6   600.0 2022-01-27              1      37.0   \n",
       "2         1-106906-29-6   600.0 2022-02-24              2      28.0   \n",
       "3         1-106906-29-6   747.7 2022-03-29              3      33.0   \n",
       "4         1-106906-29-6   600.0 2022-04-27              4      29.0   \n",
       "...                 ...     ...        ...            ...       ...   \n",
       "385754  9998-57780-61-5    55.5 2022-07-02              0       0.0   \n",
       "385755  9998-57780-61-5   232.5 2022-09-30              1      90.0   \n",
       "385756  9998-57780-61-5   290.5 2023-08-15              2     319.0   \n",
       "385757  9998-57780-61-5   115.5 2023-12-01              3     108.0   \n",
       "385758  9998-57780-61-5   115.5 2023-12-05              4       4.0   \n",
       "\n",
       "        cluster_id  is_rec  \n",
       "0                1       1  \n",
       "1                1       1  \n",
       "2                1       1  \n",
       "3                1       1  \n",
       "4                1       1  \n",
       "...            ...     ...  \n",
       "385754          -1       0  \n",
       "385755          -1       0  \n",
       "385756          -1       0  \n",
       "385757          -1       0  \n",
       "385758          -1       0  \n",
       "\n",
       "[385759 rows x 7 columns]"
      ]
     },
     "execution_count": 32,
     "metadata": {},
     "output_type": "execute_result"
    }
   ],
   "source": [
    "df"
   ]
  },
  {
   "cell_type": "code",
   "execution_count": 33,
   "id": "b5dcb53e-3602-4b95-99e8-865fdd09668b",
   "metadata": {},
   "outputs": [],
   "source": [
    "# YOUSFI  ######################################################################\n",
    "\n",
    "class Config:\n",
    "    def __init__(self):\n",
    "        self.type_col='type'\n",
    "        self.client_col= 'payment_channel'\n",
    "        self.customer_id= 'payment_channel'\n",
    "        self.time_col=  'date'\n",
    "        self.amount_col='amount'\n",
    "        self.trans_amount='amount'\n",
    "        self.trans_date=  'date'\n",
    "        self.trans_type=  'mov_subcat'\n",
    "\n",
    "\n",
    "config = Config()\n",
    "\n",
    "def get_fn(df):\n",
    "    # This is a quick fix, since we don't work with type columns\n",
    "    df['type'] = 1\n",
    "    df['mov_subcat'] = 1\n",
    "    \n",
    "    dfs =  list((DetectRecurrencyII(\n",
    "                  trans_data = df.sort_values('date'),\n",
    "                  client_col= 'payment_channel',\n",
    "                  time_col=  'date',\n",
    "                  amount_col='amount',\n",
    "                  config=config\n",
    "                  )\n",
    "           )[1].values())\n",
    "\n",
    "    # Add a cluster_id col for all dfs\n",
    "    try:\n",
    "        dfs = [dfs[i].assign(cluster_id = i).reset_index()  for i, d in enumerate(dfs)]\n",
    "    except:\n",
    "        import pdb; pdb.set_trace()\n",
    "\n",
    "\n",
    "    if len(dfs) > 0:\n",
    "        concat_df = pd.concat(dfs)\n",
    "    \n",
    "        out = pd.merge(\n",
    "             df, \n",
    "             concat_df, \n",
    "             left_on=['date', 'amount'], \n",
    "             right_on=['date', 'amount'], \n",
    "             how='left', indicator=False)\n",
    "\n",
    "        dfs = out.drop_duplicates(['group_position'], keep='first').fillna(-1)\n",
    "    else:\n",
    "        dfs = df.assign(cluster_id = -1)\n",
    "\n",
    "    return dfs.loc[:, ['date', 'amount', 'cluster_id']]"
   ]
  },
  {
   "cell_type": "code",
   "execution_count": 34,
   "id": "49dcae35-eec7-413e-8f43-b85fbf2b07a8",
   "metadata": {},
   "outputs": [],
   "source": [
    "dft = df_ori.copy()"
   ]
  },
  {
   "cell_type": "code",
   "execution_count": 35,
   "id": "84597781-1436-44b4-ad1b-acdbdce2a0fe",
   "metadata": {},
   "outputs": [],
   "source": [
    "%%capture\n",
    "outt = dft.sort_values(['payment_channel', 'date']).groupby('payment_channel').apply(lambda x: get_fn(x))"
   ]
  },
  {
   "cell_type": "code",
   "execution_count": 36,
   "id": "d6dc8bf8-e50f-4ab8-ba47-a97062a5ed0a",
   "metadata": {},
   "outputs": [],
   "source": [
    "dft = pd.merge(dft, outt.reset_index().drop('level_1', axis=1), on=('payment_channel', 'date', 'amount')).drop_duplicates(['payment_channel', 'group_position'], keep='first')"
   ]
  },
  {
   "cell_type": "code",
   "execution_count": 37,
   "id": "0d468ebd-7794-4d20-be06-1833c138404e",
   "metadata": {},
   "outputs": [],
   "source": [
    "dft['cluster_id'] = dft['cluster_id'].fillna(-1).astype(int)"
   ]
  },
  {
   "cell_type": "code",
   "execution_count": 38,
   "id": "76b3b745-c050-4c0d-ad9d-7ad650bf970e",
   "metadata": {},
   "outputs": [
    {
     "name": "stdout",
     "output_type": "stream",
     "text": [
      "Percentage of non-recurrent points using YOUSFI: 0.9952483286196823\n"
     ]
    }
   ],
   "source": [
    "print(f\"Percentage of non-recurrent points using YOUSFI: {len(dft[dft.cluster_id < 0]) / len(dft)}\")"
   ]
  },
  {
   "cell_type": "code",
   "execution_count": 39,
   "id": "e5fb026f-846e-4559-a7c0-c6c260ffb486",
   "metadata": {},
   "outputs": [],
   "source": [
    "dft.to_parquet('filtered_yousfi.pqt')"
   ]
  },
  {
   "cell_type": "code",
   "execution_count": null,
   "id": "7ff15fce-7c89-4dec-b103-3def806f51cd",
   "metadata": {},
   "outputs": [],
   "source": []
  },
  {
   "cell_type": "markdown",
   "id": "d9a00ade-cde8-4c23-8f1c-b71cbe65750a",
   "metadata": {},
   "source": [
    "Plot a single example"
   ]
  },
  {
   "cell_type": "code",
   "execution_count": null,
   "id": "c877c00f-fa49-47d2-a96c-c37bce42d429",
   "metadata": {},
   "outputs": [],
   "source": [
    "t = df.loc[(df.payment_channel == '3514-67514222-PREVOD Z UCTU-PRIJEM')].copy()\n",
    "t[t.amount > 0]\n",
    "#t.amount_lvl =  t.amount_lvl.astype(str)\n",
    "\n",
    "\n",
    "sns.scatterplot(t, \n",
    "                x='date', \n",
    "                y='amount', \n",
    "                style='cluster_id',\n",
    "                hue='cluster_id'#'cluster_id'\n",
    "               )"
   ]
  },
  {
   "cell_type": "code",
   "execution_count": null,
   "id": "41ce339f-d41d-42b6-8a9f-c0f027b070af",
   "metadata": {},
   "outputs": [],
   "source": []
  },
  {
   "cell_type": "code",
   "execution_count": null,
   "id": "efe52385-4842-42d2-8cbd-835bdb5751b1",
   "metadata": {},
   "outputs": [],
   "source": []
  },
  {
   "cell_type": "markdown",
   "id": "f691438b-5b09-4dad-9685-52cdd8f451db",
   "metadata": {},
   "source": [
    "**Recognition stats**"
   ]
  },
  {
   "cell_type": "code",
   "execution_count": 41,
   "id": "6ac5f163-aa16-4eb7-81e6-e23d3f7f4d1a",
   "metadata": {},
   "outputs": [
    {
     "name": "stdout",
     "output_type": "stream",
     "text": [
      "[DBSCAN] Percentage of payment channels with some recurrent sub-pattern: 0.25384132300607076 \t Total recurrent subseries: 13602\n",
      "[MATRIX] Percentage of payment channels with some recurrent sub-pattern: 0.4376805526481055 \t Total recurrent subseries: 23321\n",
      "[GRAPHS] Percentage of payment channels with some recurrent sub-pattern: 0.7379945572535064 \t Total recurrent subseries: 42584\n",
      "[YOUSFI] Percentage of payment channels with some recurrent sub-pattern: 0.008331588863303329 \t Total recurrent subseries: 220\n"
     ]
    }
   ],
   "source": [
    "for method in ('dbscan', 'matrix', 'graphs', 'yousfi'):\n",
    "    df = pd.read_parquet(f'filtered_{method}.pqt')\n",
    "\n",
    "    if 'is_rec' not in df.columns:\n",
    "        df['is_rec'] = (df['cluster_id'] >= 0).astype(int)\n",
    "\n",
    "    total_rec_series = df[df.is_rec > 0].groupby(['payment_channel', 'cluster_id'])['payment_channel'].nunique().sum()\n",
    "    \n",
    "    print(f\"[{method.upper()}] Percentage of payment channels with some recurrent sub-pattern: {df[df.is_rec > 0].payment_channel.nunique() / df.payment_channel.nunique()} \\t Total recurrent subseries: {df[df.is_rec > 0].groupby(['payment_channel', 'cluster_id'])['payment_channel'].nunique().sum()}\")"
   ]
  },
  {
   "cell_type": "code",
   "execution_count": null,
   "id": "52cab06d-2016-4ecc-942a-e8d75c474b05",
   "metadata": {},
   "outputs": [],
   "source": []
  }
 ],
 "metadata": {
  "availableInstances": [
   {
    "_defaultOrder": 0,
    "_isFastLaunch": true,
    "category": "General purpose",
    "gpuNum": 0,
    "hideHardwareSpecs": false,
    "memoryGiB": 4,
    "name": "ml.t3.medium",
    "vcpuNum": 2
   },
   {
    "_defaultOrder": 1,
    "_isFastLaunch": false,
    "category": "General purpose",
    "gpuNum": 0,
    "hideHardwareSpecs": false,
    "memoryGiB": 8,
    "name": "ml.t3.large",
    "vcpuNum": 2
   },
   {
    "_defaultOrder": 2,
    "_isFastLaunch": false,
    "category": "General purpose",
    "gpuNum": 0,
    "hideHardwareSpecs": false,
    "memoryGiB": 16,
    "name": "ml.t3.xlarge",
    "vcpuNum": 4
   },
   {
    "_defaultOrder": 3,
    "_isFastLaunch": false,
    "category": "General purpose",
    "gpuNum": 0,
    "hideHardwareSpecs": false,
    "memoryGiB": 32,
    "name": "ml.t3.2xlarge",
    "vcpuNum": 8
   },
   {
    "_defaultOrder": 4,
    "_isFastLaunch": true,
    "category": "General purpose",
    "gpuNum": 0,
    "hideHardwareSpecs": false,
    "memoryGiB": 8,
    "name": "ml.m5.large",
    "vcpuNum": 2
   },
   {
    "_defaultOrder": 5,
    "_isFastLaunch": false,
    "category": "General purpose",
    "gpuNum": 0,
    "hideHardwareSpecs": false,
    "memoryGiB": 16,
    "name": "ml.m5.xlarge",
    "vcpuNum": 4
   },
   {
    "_defaultOrder": 6,
    "_isFastLaunch": false,
    "category": "General purpose",
    "gpuNum": 0,
    "hideHardwareSpecs": false,
    "memoryGiB": 32,
    "name": "ml.m5.2xlarge",
    "vcpuNum": 8
   },
   {
    "_defaultOrder": 7,
    "_isFastLaunch": false,
    "category": "General purpose",
    "gpuNum": 0,
    "hideHardwareSpecs": false,
    "memoryGiB": 64,
    "name": "ml.m5.4xlarge",
    "vcpuNum": 16
   },
   {
    "_defaultOrder": 8,
    "_isFastLaunch": false,
    "category": "General purpose",
    "gpuNum": 0,
    "hideHardwareSpecs": false,
    "memoryGiB": 128,
    "name": "ml.m5.8xlarge",
    "vcpuNum": 32
   },
   {
    "_defaultOrder": 9,
    "_isFastLaunch": false,
    "category": "General purpose",
    "gpuNum": 0,
    "hideHardwareSpecs": false,
    "memoryGiB": 192,
    "name": "ml.m5.12xlarge",
    "vcpuNum": 48
   },
   {
    "_defaultOrder": 10,
    "_isFastLaunch": false,
    "category": "General purpose",
    "gpuNum": 0,
    "hideHardwareSpecs": false,
    "memoryGiB": 256,
    "name": "ml.m5.16xlarge",
    "vcpuNum": 64
   },
   {
    "_defaultOrder": 11,
    "_isFastLaunch": false,
    "category": "General purpose",
    "gpuNum": 0,
    "hideHardwareSpecs": false,
    "memoryGiB": 384,
    "name": "ml.m5.24xlarge",
    "vcpuNum": 96
   },
   {
    "_defaultOrder": 12,
    "_isFastLaunch": false,
    "category": "General purpose",
    "gpuNum": 0,
    "hideHardwareSpecs": false,
    "memoryGiB": 8,
    "name": "ml.m5d.large",
    "vcpuNum": 2
   },
   {
    "_defaultOrder": 13,
    "_isFastLaunch": false,
    "category": "General purpose",
    "gpuNum": 0,
    "hideHardwareSpecs": false,
    "memoryGiB": 16,
    "name": "ml.m5d.xlarge",
    "vcpuNum": 4
   },
   {
    "_defaultOrder": 14,
    "_isFastLaunch": false,
    "category": "General purpose",
    "gpuNum": 0,
    "hideHardwareSpecs": false,
    "memoryGiB": 32,
    "name": "ml.m5d.2xlarge",
    "vcpuNum": 8
   },
   {
    "_defaultOrder": 15,
    "_isFastLaunch": false,
    "category": "General purpose",
    "gpuNum": 0,
    "hideHardwareSpecs": false,
    "memoryGiB": 64,
    "name": "ml.m5d.4xlarge",
    "vcpuNum": 16
   },
   {
    "_defaultOrder": 16,
    "_isFastLaunch": false,
    "category": "General purpose",
    "gpuNum": 0,
    "hideHardwareSpecs": false,
    "memoryGiB": 128,
    "name": "ml.m5d.8xlarge",
    "vcpuNum": 32
   },
   {
    "_defaultOrder": 17,
    "_isFastLaunch": false,
    "category": "General purpose",
    "gpuNum": 0,
    "hideHardwareSpecs": false,
    "memoryGiB": 192,
    "name": "ml.m5d.12xlarge",
    "vcpuNum": 48
   },
   {
    "_defaultOrder": 18,
    "_isFastLaunch": false,
    "category": "General purpose",
    "gpuNum": 0,
    "hideHardwareSpecs": false,
    "memoryGiB": 256,
    "name": "ml.m5d.16xlarge",
    "vcpuNum": 64
   },
   {
    "_defaultOrder": 19,
    "_isFastLaunch": false,
    "category": "General purpose",
    "gpuNum": 0,
    "hideHardwareSpecs": false,
    "memoryGiB": 384,
    "name": "ml.m5d.24xlarge",
    "vcpuNum": 96
   },
   {
    "_defaultOrder": 20,
    "_isFastLaunch": false,
    "category": "General purpose",
    "gpuNum": 0,
    "hideHardwareSpecs": true,
    "memoryGiB": 0,
    "name": "ml.geospatial.interactive",
    "supportedImageNames": [
     "sagemaker-geospatial-v1-0"
    ],
    "vcpuNum": 0
   },
   {
    "_defaultOrder": 21,
    "_isFastLaunch": true,
    "category": "Compute optimized",
    "gpuNum": 0,
    "hideHardwareSpecs": false,
    "memoryGiB": 4,
    "name": "ml.c5.large",
    "vcpuNum": 2
   },
   {
    "_defaultOrder": 22,
    "_isFastLaunch": false,
    "category": "Compute optimized",
    "gpuNum": 0,
    "hideHardwareSpecs": false,
    "memoryGiB": 8,
    "name": "ml.c5.xlarge",
    "vcpuNum": 4
   },
   {
    "_defaultOrder": 23,
    "_isFastLaunch": false,
    "category": "Compute optimized",
    "gpuNum": 0,
    "hideHardwareSpecs": false,
    "memoryGiB": 16,
    "name": "ml.c5.2xlarge",
    "vcpuNum": 8
   },
   {
    "_defaultOrder": 24,
    "_isFastLaunch": false,
    "category": "Compute optimized",
    "gpuNum": 0,
    "hideHardwareSpecs": false,
    "memoryGiB": 32,
    "name": "ml.c5.4xlarge",
    "vcpuNum": 16
   },
   {
    "_defaultOrder": 25,
    "_isFastLaunch": false,
    "category": "Compute optimized",
    "gpuNum": 0,
    "hideHardwareSpecs": false,
    "memoryGiB": 72,
    "name": "ml.c5.9xlarge",
    "vcpuNum": 36
   },
   {
    "_defaultOrder": 26,
    "_isFastLaunch": false,
    "category": "Compute optimized",
    "gpuNum": 0,
    "hideHardwareSpecs": false,
    "memoryGiB": 96,
    "name": "ml.c5.12xlarge",
    "vcpuNum": 48
   },
   {
    "_defaultOrder": 27,
    "_isFastLaunch": false,
    "category": "Compute optimized",
    "gpuNum": 0,
    "hideHardwareSpecs": false,
    "memoryGiB": 144,
    "name": "ml.c5.18xlarge",
    "vcpuNum": 72
   },
   {
    "_defaultOrder": 28,
    "_isFastLaunch": false,
    "category": "Compute optimized",
    "gpuNum": 0,
    "hideHardwareSpecs": false,
    "memoryGiB": 192,
    "name": "ml.c5.24xlarge",
    "vcpuNum": 96
   },
   {
    "_defaultOrder": 29,
    "_isFastLaunch": true,
    "category": "Accelerated computing",
    "gpuNum": 1,
    "hideHardwareSpecs": false,
    "memoryGiB": 16,
    "name": "ml.g4dn.xlarge",
    "vcpuNum": 4
   },
   {
    "_defaultOrder": 30,
    "_isFastLaunch": false,
    "category": "Accelerated computing",
    "gpuNum": 1,
    "hideHardwareSpecs": false,
    "memoryGiB": 32,
    "name": "ml.g4dn.2xlarge",
    "vcpuNum": 8
   },
   {
    "_defaultOrder": 31,
    "_isFastLaunch": false,
    "category": "Accelerated computing",
    "gpuNum": 1,
    "hideHardwareSpecs": false,
    "memoryGiB": 64,
    "name": "ml.g4dn.4xlarge",
    "vcpuNum": 16
   },
   {
    "_defaultOrder": 32,
    "_isFastLaunch": false,
    "category": "Accelerated computing",
    "gpuNum": 1,
    "hideHardwareSpecs": false,
    "memoryGiB": 128,
    "name": "ml.g4dn.8xlarge",
    "vcpuNum": 32
   },
   {
    "_defaultOrder": 33,
    "_isFastLaunch": false,
    "category": "Accelerated computing",
    "gpuNum": 4,
    "hideHardwareSpecs": false,
    "memoryGiB": 192,
    "name": "ml.g4dn.12xlarge",
    "vcpuNum": 48
   },
   {
    "_defaultOrder": 34,
    "_isFastLaunch": false,
    "category": "Accelerated computing",
    "gpuNum": 1,
    "hideHardwareSpecs": false,
    "memoryGiB": 256,
    "name": "ml.g4dn.16xlarge",
    "vcpuNum": 64
   },
   {
    "_defaultOrder": 35,
    "_isFastLaunch": false,
    "category": "Accelerated computing",
    "gpuNum": 1,
    "hideHardwareSpecs": false,
    "memoryGiB": 61,
    "name": "ml.p3.2xlarge",
    "vcpuNum": 8
   },
   {
    "_defaultOrder": 36,
    "_isFastLaunch": false,
    "category": "Accelerated computing",
    "gpuNum": 4,
    "hideHardwareSpecs": false,
    "memoryGiB": 244,
    "name": "ml.p3.8xlarge",
    "vcpuNum": 32
   },
   {
    "_defaultOrder": 37,
    "_isFastLaunch": false,
    "category": "Accelerated computing",
    "gpuNum": 8,
    "hideHardwareSpecs": false,
    "memoryGiB": 488,
    "name": "ml.p3.16xlarge",
    "vcpuNum": 64
   },
   {
    "_defaultOrder": 38,
    "_isFastLaunch": false,
    "category": "Accelerated computing",
    "gpuNum": 8,
    "hideHardwareSpecs": false,
    "memoryGiB": 768,
    "name": "ml.p3dn.24xlarge",
    "vcpuNum": 96
   },
   {
    "_defaultOrder": 39,
    "_isFastLaunch": false,
    "category": "Memory Optimized",
    "gpuNum": 0,
    "hideHardwareSpecs": false,
    "memoryGiB": 16,
    "name": "ml.r5.large",
    "vcpuNum": 2
   },
   {
    "_defaultOrder": 40,
    "_isFastLaunch": false,
    "category": "Memory Optimized",
    "gpuNum": 0,
    "hideHardwareSpecs": false,
    "memoryGiB": 32,
    "name": "ml.r5.xlarge",
    "vcpuNum": 4
   },
   {
    "_defaultOrder": 41,
    "_isFastLaunch": false,
    "category": "Memory Optimized",
    "gpuNum": 0,
    "hideHardwareSpecs": false,
    "memoryGiB": 64,
    "name": "ml.r5.2xlarge",
    "vcpuNum": 8
   },
   {
    "_defaultOrder": 42,
    "_isFastLaunch": false,
    "category": "Memory Optimized",
    "gpuNum": 0,
    "hideHardwareSpecs": false,
    "memoryGiB": 128,
    "name": "ml.r5.4xlarge",
    "vcpuNum": 16
   },
   {
    "_defaultOrder": 43,
    "_isFastLaunch": false,
    "category": "Memory Optimized",
    "gpuNum": 0,
    "hideHardwareSpecs": false,
    "memoryGiB": 256,
    "name": "ml.r5.8xlarge",
    "vcpuNum": 32
   },
   {
    "_defaultOrder": 44,
    "_isFastLaunch": false,
    "category": "Memory Optimized",
    "gpuNum": 0,
    "hideHardwareSpecs": false,
    "memoryGiB": 384,
    "name": "ml.r5.12xlarge",
    "vcpuNum": 48
   },
   {
    "_defaultOrder": 45,
    "_isFastLaunch": false,
    "category": "Memory Optimized",
    "gpuNum": 0,
    "hideHardwareSpecs": false,
    "memoryGiB": 512,
    "name": "ml.r5.16xlarge",
    "vcpuNum": 64
   },
   {
    "_defaultOrder": 46,
    "_isFastLaunch": false,
    "category": "Memory Optimized",
    "gpuNum": 0,
    "hideHardwareSpecs": false,
    "memoryGiB": 768,
    "name": "ml.r5.24xlarge",
    "vcpuNum": 96
   },
   {
    "_defaultOrder": 47,
    "_isFastLaunch": false,
    "category": "Accelerated computing",
    "gpuNum": 1,
    "hideHardwareSpecs": false,
    "memoryGiB": 16,
    "name": "ml.g5.xlarge",
    "vcpuNum": 4
   },
   {
    "_defaultOrder": 48,
    "_isFastLaunch": false,
    "category": "Accelerated computing",
    "gpuNum": 1,
    "hideHardwareSpecs": false,
    "memoryGiB": 32,
    "name": "ml.g5.2xlarge",
    "vcpuNum": 8
   },
   {
    "_defaultOrder": 49,
    "_isFastLaunch": false,
    "category": "Accelerated computing",
    "gpuNum": 1,
    "hideHardwareSpecs": false,
    "memoryGiB": 64,
    "name": "ml.g5.4xlarge",
    "vcpuNum": 16
   },
   {
    "_defaultOrder": 50,
    "_isFastLaunch": false,
    "category": "Accelerated computing",
    "gpuNum": 1,
    "hideHardwareSpecs": false,
    "memoryGiB": 128,
    "name": "ml.g5.8xlarge",
    "vcpuNum": 32
   },
   {
    "_defaultOrder": 51,
    "_isFastLaunch": false,
    "category": "Accelerated computing",
    "gpuNum": 1,
    "hideHardwareSpecs": false,
    "memoryGiB": 256,
    "name": "ml.g5.16xlarge",
    "vcpuNum": 64
   },
   {
    "_defaultOrder": 52,
    "_isFastLaunch": false,
    "category": "Accelerated computing",
    "gpuNum": 4,
    "hideHardwareSpecs": false,
    "memoryGiB": 192,
    "name": "ml.g5.12xlarge",
    "vcpuNum": 48
   },
   {
    "_defaultOrder": 53,
    "_isFastLaunch": false,
    "category": "Accelerated computing",
    "gpuNum": 4,
    "hideHardwareSpecs": false,
    "memoryGiB": 384,
    "name": "ml.g5.24xlarge",
    "vcpuNum": 96
   },
   {
    "_defaultOrder": 54,
    "_isFastLaunch": false,
    "category": "Accelerated computing",
    "gpuNum": 8,
    "hideHardwareSpecs": false,
    "memoryGiB": 768,
    "name": "ml.g5.48xlarge",
    "vcpuNum": 192
   },
   {
    "_defaultOrder": 55,
    "_isFastLaunch": false,
    "category": "Accelerated computing",
    "gpuNum": 8,
    "hideHardwareSpecs": false,
    "memoryGiB": 1152,
    "name": "ml.p4d.24xlarge",
    "vcpuNum": 96
   },
   {
    "_defaultOrder": 56,
    "_isFastLaunch": false,
    "category": "Accelerated computing",
    "gpuNum": 8,
    "hideHardwareSpecs": false,
    "memoryGiB": 1152,
    "name": "ml.p4de.24xlarge",
    "vcpuNum": 96
   },
   {
    "_defaultOrder": 57,
    "_isFastLaunch": false,
    "category": "Accelerated computing",
    "gpuNum": 0,
    "hideHardwareSpecs": false,
    "memoryGiB": 32,
    "name": "ml.trn1.2xlarge",
    "vcpuNum": 8
   },
   {
    "_defaultOrder": 58,
    "_isFastLaunch": false,
    "category": "Accelerated computing",
    "gpuNum": 0,
    "hideHardwareSpecs": false,
    "memoryGiB": 512,
    "name": "ml.trn1.32xlarge",
    "vcpuNum": 128
   },
   {
    "_defaultOrder": 59,
    "_isFastLaunch": false,
    "category": "Accelerated computing",
    "gpuNum": 0,
    "hideHardwareSpecs": false,
    "memoryGiB": 512,
    "name": "ml.trn1n.32xlarge",
    "vcpuNum": 128
   }
  ],
  "instance_type": "ml.m5.8xlarge",
  "kernelspec": {
   "display_name": "Python 3 (ipykernel)",
   "language": "python",
   "name": "python3"
  },
  "language_info": {
   "codemirror_mode": {
    "name": "ipython",
    "version": 3
   },
   "file_extension": ".py",
   "mimetype": "text/x-python",
   "name": "python",
   "nbconvert_exporter": "python",
   "pygments_lexer": "ipython3",
   "version": "3.9.16"
  }
 },
 "nbformat": 4,
 "nbformat_minor": 5
}
