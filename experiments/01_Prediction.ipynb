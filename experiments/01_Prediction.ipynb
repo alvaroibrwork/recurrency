{
 "cells": [
  {
   "cell_type": "code",
   "execution_count": 2,
   "id": "cf66de5e-addc-4909-bca3-99c8bc8ba4e5",
   "metadata": {
    "tags": []
   },
   "outputs": [],
   "source": [
    "import pandas as pd\n",
    "import numpy as np\n",
    "import seaborn as sns\n",
    "import math\n",
    "import seaborn as sns\n",
    "import matplotlib.pyplot as plt\n",
    "\n",
    "from scipy import stats\n",
    "from scipy import spatial\n",
    "from sklearn.preprocessing import LabelEncoder\n",
    "from sklearn.manifold import TSNE\n",
    "from sklearn.metrics import (\n",
    "    mean_absolute_error, mean_squared_error, mean_absolute_percentage_error \n",
    ")\n",
    "\n",
    "from sklearn.ensemble import RandomForestRegressor, GradientBoostingRegressor\n",
    "from sklearn.tree import DecisionTreeRegressor\n",
    "from sklearn.linear_model import LinearRegression\n",
    "from sklearn.preprocessing import MinMaxScaler, minmax_scale\n",
    "from sklearn.model_selection import train_test_split\n",
    "from sklearn.model_selection import cross_val_predict, cross_val_score, KFold\n",
    "from sklearn.pipeline import Pipeline"
   ]
  },
  {
   "cell_type": "code",
   "execution_count": null,
   "id": "5518c426-41a6-42e3-a0b7-d170e4549e6f",
   "metadata": {},
   "outputs": [],
   "source": []
  },
  {
   "cell_type": "code",
   "execution_count": 3,
   "id": "9524ebce-715d-453e-a29b-e8b2b05dbe47",
   "metadata": {
    "tags": []
   },
   "outputs": [],
   "source": [
    "def percentile(n):\n",
    "    # Compute the percentiles using pandas apply\n",
    "    def percentile_(x):\n",
    "        return np.percentile(x, n)\n",
    "    percentile_.__name__ = 'percentile_%s' % n\n",
    "    return percentile_"
   ]
  },
  {
   "cell_type": "code",
   "execution_count": null,
   "id": "f3a63c4a-c32c-4a71-877b-1b9a2dabfd4a",
   "metadata": {},
   "outputs": [],
   "source": []
  },
  {
   "cell_type": "code",
   "execution_count": 4,
   "id": "1fac42e2-93cf-4d58-92a2-6480b3cbfb17",
   "metadata": {
    "tags": []
   },
   "outputs": [],
   "source": [
    "DATASET_PATH = 'filtered_yousfi.pqt'"
   ]
  },
  {
   "cell_type": "code",
   "execution_count": null,
   "id": "a808403f-563f-4a87-abb2-b226d648427a",
   "metadata": {},
   "outputs": [],
   "source": []
  },
  {
   "cell_type": "markdown",
   "id": "40f9e34e-0f64-4d56-9dbc-d4f0c96909a1",
   "metadata": {},
   "source": [
    "Next date prediction task\n",
    "---\n",
    "Predit the next datediff"
   ]
  },
  {
   "cell_type": "code",
   "execution_count": 5,
   "id": "5ae6d4ba-5d9e-4710-9751-4e47812e9609",
   "metadata": {
    "tags": []
   },
   "outputs": [],
   "source": [
    "blacklist = [\n",
    " 'trans_id',\n",
    " 'account_id',\n",
    " 'date',\n",
    " 'type',\n",
    " 'operation',\n",
    " 'amount',\n",
    " 'balance',\n",
    " 'k_symbol',\n",
    " 'bank',\n",
    " 'account',\n",
    " 'datediff',\n",
    " 'amount_lvl',\n",
    " 'is_rec',\n",
    " 'day_cluster',\n",
    " 'cluster_id',\n",
    " 'cumdiff',\n",
    " 'cumbreaks',\n",
    " 'cummovs',\n",
    " 'year_percent',\n",
    " 'group_position',]\n",
    "\n",
    "N_LAST_MOVS = 7\n"
   ]
  },
  {
   "cell_type": "code",
   "execution_count": 6,
   "id": "6d53e4ea-4d2c-4f78-b13a-794455cd5aa7",
   "metadata": {
    "tags": []
   },
   "outputs": [],
   "source": [
    "def build_features_date_pred(df):\n",
    "    eval_set = df.copy()\n",
    "\n",
    "    eval_set = df.sort_values('date').groupby('payment_channel').nth(slice(0, -1)).sort_values('date')\n",
    "    true_next_dates = df.sort_values('date').groupby('payment_channel').tail(1).set_index('payment_channel')\n",
    "\n",
    "    # Days differences\n",
    "    eval_set.loc[:, 'cumdiff']  = eval_set.groupby('payment_channel')['datediff'].cumsum().values\n",
    "    eval_set.loc[:, 'cumbreaks'] = 0  # quick hack. This variable is useless   -> eval_set.groupby('payment_channel')['is_break'].cumsum().values\n",
    "    eval_set.loc[:, 'cummovs']  = eval_set.groupby('payment_channel')['group_position'].diff().fillna(0).groupby('payment_channel').cumsum().values\n",
    "    eval_set.loc[:, 'year_percent'] = eval_set.date.dt.day_of_year / 365\n",
    "    \n",
    "    # Percentiles\n",
    "    historic_ranges = eval_set[(eval_set.datediff > 0)].groupby('payment_channel')['datediff'].agg(['min', 'max', \n",
    "                                                                                                   percentile(5), percentile(50),percentile(95), \n",
    "                                                                                                   lambda x: stats.mode(x)[0][0]])\n",
    "    historic_ranges = historic_ranges.rename({'<lambda_0>': 'mode'}, axis=1)\n",
    "\n",
    "    ## TAKE ONLY N LAST MOVEMENTS\n",
    "    eval_set_tmp = eval_set.groupby('payment_channel').tail(N_LAST_MOVS)\n",
    "    \n",
    "    eval_set_tmp = eval_set_tmp.sort_values(['payment_channel', 'date']).drop('group_position', axis=1)\n",
    "    posid = eval_set_tmp.groupby(['payment_channel'])\\\n",
    "                .cumcount().rename('group_position')\n",
    "    \n",
    "    eval_set_tmp['group_position'] = posid\n",
    "    eval_set_tmp = eval_set_tmp.reset_index().drop_duplicates(['payment_channel', 'group_position']).set_index('payment_channel')\n",
    "    \n",
    "    \n",
    "    X = eval_set_tmp\\\n",
    "        .reset_index()[['payment_channel', 'group_position', 'datediff', 'cumdiff', 'cumbreaks', 'cummovs', 'year_percent']]\\\n",
    "        .pivot('payment_channel', columns=[\"group_position\"])\n",
    "    \n",
    "    X.columns = [f'diffdays_{i}' for i in range(N_LAST_MOVS)] +\\\n",
    "                [f'cumdiff_{i}' for i in range(N_LAST_MOVS)] +\\\n",
    "                [f'cumbreaks_{i}' for i in range(N_LAST_MOVS)] +\\\n",
    "                [f'cummovs_{i}' for i in range(N_LAST_MOVS)] +\\\n",
    "                [f'year_percent_{i}' for i in range(N_LAST_MOVS)]\n",
    "    \n",
    "    X = pd.merge(X, eval_set_tmp.loc[~eval_set_tmp.index.duplicated(keep='first')], left_index=True, right_index=True)\n",
    "    \n",
    "    # Add true label (target)\n",
    "    X = X.join(true_next_dates['datediff'].rename('y_true'))\n",
    "    X = X.join(historic_ranges)\n",
    "\n",
    "    X = X.loc[:, [c for c in X.columns if c not in blacklist]]\n",
    "\n",
    "    X = X.loc[X.y_true > 0]  # We won't predict dates on the same day\n",
    "    \n",
    "    return X.dropna()   # TODO: Check this nan\n",
    "\n",
    "\n",
    "def regression_report(y_true, y_pred):\n",
    "    return {\n",
    "        'MAE': mean_absolute_error(y_true, y_pred), \n",
    "        'MSE': mean_squared_error(y_true, y_pred), \n",
    "        'MAPE': mean_absolute_percentage_error(y_true, y_pred)\n",
    "    }"
   ]
  },
  {
   "cell_type": "markdown",
   "id": "dde9c2f7-72f6-4e1b-8518-f09290bd6ef7",
   "metadata": {},
   "source": [
    "## Baseline: Predictions without filtering"
   ]
  },
  {
   "cell_type": "code",
   "execution_count": null,
   "id": "46f405b0-4f88-4ad2-8a75-2794ec22ec66",
   "metadata": {},
   "outputs": [],
   "source": []
  },
  {
   "cell_type": "code",
   "execution_count": 7,
   "id": "3de2ef51-ae10-455e-9855-b27911ea8143",
   "metadata": {
    "tags": []
   },
   "outputs": [],
   "source": [
    "df = pd.read_parquet(DATASET_PATH).sort_values(['date', 'payment_channel'])"
   ]
  },
  {
   "cell_type": "code",
   "execution_count": null,
   "id": "3e6dc284-a42c-41c0-8daf-f97c07e5a3d9",
   "metadata": {},
   "outputs": [],
   "source": []
  },
  {
   "cell_type": "code",
   "execution_count": 8,
   "id": "50b58c60-a997-4739-bda2-b86ab06ec85f",
   "metadata": {
    "tags": []
   },
   "outputs": [
    {
     "name": "stdout",
     "output_type": "stream",
     "text": [
      "CPU times: user 4.54 s, sys: 88.9 ms, total: 4.63 s\n",
      "Wall time: 4.69 s\n"
     ]
    }
   ],
   "source": [
    "%%time\n",
    "%%capture\n",
    "X = build_features_date_pred(df)"
   ]
  },
  {
   "cell_type": "code",
   "execution_count": null,
   "id": "34b6dee1-e51e-460f-9af1-77b19d81d1f7",
   "metadata": {},
   "outputs": [],
   "source": []
  },
  {
   "cell_type": "code",
   "execution_count": 9,
   "id": "2007ac2e-dc71-4dcd-a5bc-bbc485f2d5d2",
   "metadata": {
    "tags": []
   },
   "outputs": [
    {
     "name": "stdout",
     "output_type": "stream",
     "text": [
      "Correlation between series modes and label:\n"
     ]
    },
    {
     "data": {
      "text/plain": [
       "array([[1.        , 0.04965548],\n",
       "       [0.04965548, 1.        ]])"
      ]
     },
     "execution_count": 9,
     "metadata": {},
     "output_type": "execute_result"
    }
   ],
   "source": [
    "print(\"Correlation between series modes and label:\")\n",
    "nonnan = ~(X[['mode', 'y_true']].isna().any(axis=1)).values\n",
    "np.corrcoef(X['mode'].values[nonnan], X.y_true.values[nonnan])"
   ]
  },
  {
   "cell_type": "code",
   "execution_count": null,
   "id": "d4fabb53-3613-46d7-b9e7-c98245bfda1c",
   "metadata": {},
   "outputs": [],
   "source": []
  },
  {
   "cell_type": "code",
   "execution_count": 10,
   "id": "b71d1b8e-ffb0-4e4f-852a-11a3efdbc878",
   "metadata": {},
   "outputs": [
    {
     "data": {
      "text/plain": [
       "24077"
      ]
     },
     "execution_count": 10,
     "metadata": {},
     "output_type": "execute_result"
    }
   ],
   "source": [
    "df.groupby(['payment_channel'])['cluster_id'].nunique().sum()"
   ]
  },
  {
   "cell_type": "code",
   "execution_count": 11,
   "id": "b9a27be4-d489-45af-95b7-ad8054cbfea9",
   "metadata": {},
   "outputs": [],
   "source": [
    "# BERKA\n",
    "# dbscan = 11392\n",
    "# matrix = 12502\n",
    "# graphs = 13005\n",
    "# yousfi = 9192\n",
    "\n",
    "\n",
    "# BANK\n",
    "# dbscan = 61833\n",
    "# matrix = 46386\n",
    "# graphs = 65817\n",
    "# yousfi = 24077"
   ]
  },
  {
   "cell_type": "code",
   "execution_count": null,
   "id": "1c63b45d-16e5-400d-bd01-1b507a074b39",
   "metadata": {},
   "outputs": [],
   "source": []
  },
  {
   "cell_type": "code",
   "execution_count": 12,
   "id": "eaab03bb-91c6-4b69-8d59-78369528209f",
   "metadata": {
    "tags": []
   },
   "outputs": [],
   "source": [
    "X_train, X_test = train_test_split(X)\n",
    "feat_cols = [f for f in X.columns if f != 'y_true']"
   ]
  },
  {
   "cell_type": "code",
   "execution_count": null,
   "id": "9eca7877-7ae6-43c4-a209-e5f9970ab439",
   "metadata": {},
   "outputs": [],
   "source": []
  },
  {
   "cell_type": "code",
   "execution_count": 13,
   "id": "ef7e26c9-f027-4686-9539-6586800a168f",
   "metadata": {},
   "outputs": [
    {
     "name": "stdout",
     "output_type": "stream",
     "text": [
      "Fitting LinearRegression()...\n",
      "Mean Absolute Error for LinearRegression(): 41.74048 ± 1.11346\n",
      "Mean Absolute Percentage Error for LinearRegression(): 4.27593 ± 0.28788\n",
      "\n",
      "Fitting GradientBoostingRegressor()...\n",
      "Mean Absolute Error for GradientBoostingRegressor(): 39.82786 ± 1.13269\n",
      "Mean Absolute Percentage Error for GradientBoostingRegressor(): 3.97756 ± 0.28694\n",
      "\n",
      "Fitting RandomForestRegressor()...\n",
      "Mean Absolute Error for RandomForestRegressor(): 41.16113 ± 1.23959\n",
      "Mean Absolute Percentage Error for RandomForestRegressor(): 4.27688 ± 0.25594\n",
      "\n",
      "Fitting DecisionTreeRegressor()...\n",
      "Mean Absolute Error for DecisionTreeRegressor(): 53.42364 ± 1.37529\n",
      "Mean Absolute Percentage Error for DecisionTreeRegressor(): 4.29221 ± 0.21838\n",
      "\n"
     ]
    }
   ],
   "source": [
    "models = [\n",
    "    LinearRegression(),\n",
    "    GradientBoostingRegressor(),\n",
    "    RandomForestRegressor(),\n",
    "    DecisionTreeRegressor()\n",
    "]\n",
    "\n",
    "# Define the pipeline with scaling\n",
    "pipeline = Pipeline([\n",
    "    ('scaler', MinMaxScaler()),\n",
    "    ('model', None)  # Placeholder for the model\n",
    "])\n",
    "\n",
    "# Perform cross-validation for each model\n",
    "for m in models:\n",
    "    print(f\"Fitting {m}...\")\n",
    "    \n",
    "    # Set the model in the pipeline\n",
    "     # Set the model in the pipeline\n",
    "    pipeline.set_params(model=m)\n",
    "    \n",
    "    # Perform cross-validation\n",
    "    kf = KFold(n_splits=5, shuffle=True, random_state=42)\n",
    "    mae_cv = []\n",
    "    mape_cv = []\n",
    "    for train_index, test_index in kf.split(X):\n",
    "        X_train_fold, X_test_fold = X.iloc[train_index].drop('y_true', axis=1), X.iloc[test_index].drop('y_true', axis=1)\n",
    "        y_train_fold, y_test_fold = X.iloc[train_index]['y_true'], X.iloc[test_index]['y_true']\n",
    "        \n",
    "        # Fit and predict on the fold\n",
    "        pipeline.fit(X_train_fold, y_train_fold)\n",
    "        y_pred_fold = pipeline.predict(X_test_fold)\n",
    "        \n",
    "        # Calculate MAE and MAPE for the fold\n",
    "        mae_fold = mean_absolute_error(y_test_fold, y_pred_fold)\n",
    "        mape_fold = mean_absolute_percentage_error(y_test_fold, y_pred_fold)\n",
    "        \n",
    "        mae_cv.append(mae_fold)\n",
    "        mape_cv.append(mape_fold)\n",
    "        \n",
    "    # Calculate mean and std of MAE for all folds\n",
    "    mae_mean = np.mean(mae_cv)\n",
    "    mae_std = np.std(mae_cv)\n",
    "    \n",
    "    # Calculate mean and std of MAPE for all folds\n",
    "    mape_mean = np.mean(mape_cv)\n",
    "    mape_std = np.std(mape_cv)\n",
    "    \n",
    "    print(f\"Mean Absolute Error for {m}: {mae_mean:.5f} ± {mae_std:.5f}\")\n",
    "    print(f\"Mean Absolute Percentage Error for {m}: {mape_mean:.5f} ± {mape_std:.5f}\")\n",
    "    \n",
    "    print()"
   ]
  },
  {
   "cell_type": "code",
   "execution_count": null,
   "id": "7820a002-6880-47ec-84c5-e8c8b8ed83ef",
   "metadata": {},
   "outputs": [],
   "source": []
  },
  {
   "cell_type": "code",
   "execution_count": 14,
   "id": "1c7c1239-08b4-4b91-82b2-26bf7d1d5d75",
   "metadata": {
    "tags": []
   },
   "outputs": [
    {
     "name": "stdout",
     "output_type": "stream",
     "text": [
      "Fitting LinearRegression()...\n",
      "Report for LinearRegression() - {'MAE': 41.804543895821794, 'MSE': 5189.25842720988, 'MAPE': 4.334972847738799}\n",
      "\n",
      "Fitting GradientBoostingRegressor()...\n",
      "Report for GradientBoostingRegressor() - {'MAE': 39.657460759572025, 'MSE': 4966.370359830304, 'MAPE': 3.971304555318823}\n",
      "\n",
      "Fitting RandomForestRegressor()...\n",
      "Report for RandomForestRegressor() - {'MAE': 40.73956521739131, 'MSE': 5024.8478366380505, 'MAPE': 4.243591752454291}\n",
      "\n",
      "Fitting DecisionTreeRegressor()...\n",
      "Report for DecisionTreeRegressor() - {'MAE': 53.6687898089172, 'MSE': 10861.382442536693, 'MAPE': 4.349969081098424}\n",
      "\n",
      "CPU times: user 22.4 s, sys: 200 ms, total: 22.6 s\n",
      "Wall time: 21.3 s\n"
     ]
    }
   ],
   "source": [
    "%%time\n",
    "\n",
    "# The same but only regular train/test split\n",
    "models = [\n",
    "    LinearRegression(),\n",
    "    GradientBoostingRegressor(),\n",
    "    RandomForestRegressor(),\n",
    "    DecisionTreeRegressor()\n",
    "]\n",
    "\n",
    "for m in models:\n",
    "    print(f\"Fitting {m}...\")\n",
    "    scaler =  MinMaxScaler().fit(X_train.drop('y_true', axis=1))\n",
    "    \n",
    "    m = m.fit(\n",
    "        scaler.transform(X_train.drop('y_true', axis=1)),\n",
    "        y=X_train['y_true']\n",
    "    )\n",
    "    ypred = m.predict(\n",
    "        scaler.transform(X_test.drop('y_true', axis=1)),\n",
    "    )\n",
    "    \n",
    "    report = regression_report(X_test['y_true'], ypred)\n",
    "    print(f\"Report for {m} - {report}\")\n",
    "    \n",
    "    print()"
   ]
  },
  {
   "cell_type": "code",
   "execution_count": null,
   "id": "ba21a98a-7551-47fc-820e-043ee6a34bc1",
   "metadata": {},
   "outputs": [],
   "source": []
  },
  {
   "cell_type": "code",
   "execution_count": 15,
   "id": "8a2f1785-8e0a-49a0-a4c2-32e6c3763587",
   "metadata": {
    "tags": []
   },
   "outputs": [
    {
     "name": "stdout",
     "output_type": "stream",
     "text": [
      "Error Percentiles:\n",
      "\tResiduals percentile 0.05 = 1.0\n",
      "\tResiduals percentile 0.25 = 6.0\n",
      "\tResiduals percentile 0.5 = 19.0\n",
      "\tResiduals percentile 0.75 = 59.0\n",
      "\tResiduals percentile 0.95 = 245.0\n"
     ]
    }
   ],
   "source": [
    "residuals = np.abs(X_test['y_true'] - ypred)\n",
    "\n",
    "print(\"Error Percentiles:\")\n",
    "for q in [0.05, 0.25, 0.5, 0.75, 0.95]:\n",
    "    print(f\"\\tResiduals percentile {q} = {(residuals.quantile(q))}\")"
   ]
  },
  {
   "cell_type": "code",
   "execution_count": 16,
   "id": "400ea1c7-e891-4ab2-a123-70c9d529cd7d",
   "metadata": {
    "tags": []
   },
   "outputs": [
    {
     "data": {
      "text/plain": [
       "<Axes: >"
      ]
     },
     "execution_count": 16,
     "metadata": {},
     "output_type": "execute_result"
    },
    {
     "data": {
      "image/png": "[encoded data removed]",
      "text/plain": [
       "<Figure size 640x480 with 1 Axes>"
      ]
     },
     "metadata": {},
     "output_type": "display_data"
    }
   ],
   "source": [
    "residuals.hist(bins=30)"
   ]
  },
  {
   "cell_type": "code",
   "execution_count": null,
   "id": "2c3eb079-ef37-41a2-a40a-5a9903f66147",
   "metadata": {},
   "outputs": [],
   "source": []
  },
  {
   "cell_type": "code",
   "execution_count": null,
   "id": "bd24bd52-40b8-4559-b835-0d213e913267",
   "metadata": {},
   "outputs": [],
   "source": []
  },
  {
   "cell_type": "code",
   "execution_count": null,
   "id": "835c0ff2-92a7-4c79-ab86-56ca46d608da",
   "metadata": {},
   "outputs": [],
   "source": []
  },
  {
   "cell_type": "markdown",
   "id": "2dd7cdf9-b697-47d4-b865-3988f11a7f64",
   "metadata": {},
   "source": [
    "## Predictions with filtered dataset"
   ]
  },
  {
   "cell_type": "code",
   "execution_count": 17,
   "id": "276dd849-434d-4f0e-9203-7c63312dbbce",
   "metadata": {
    "tags": []
   },
   "outputs": [],
   "source": [
    "df = pd.read_parquet(DATASET_PATH).sort_values(['date', 'payment_channel'])"
   ]
  },
  {
   "cell_type": "code",
   "execution_count": 18,
   "id": "e122582f-9836-47a5-8abc-39082320419c",
   "metadata": {
    "tags": []
   },
   "outputs": [],
   "source": [
    "# We add the recognized sub-serie IDs and we remove the flagged noise\n",
    "df['payment_channel'] = df['payment_channel'] + '_' + df['cluster_id'].astype(str)\n",
    "\n",
    "if 'is_rec' in df.columns:\n",
    "    df = df.loc[df.is_rec > 0]\n",
    "else:\n",
    "    df = df.loc[df.cluster_id >= 0]"
   ]
  },
  {
   "cell_type": "code",
   "execution_count": 19,
   "id": "5253bcd8-d808-4e0c-b8c3-91cc5347e9dd",
   "metadata": {
    "tags": []
   },
   "outputs": [
    {
     "name": "stdout",
     "output_type": "stream",
     "text": [
      "CPU times: user 49.9 ms, sys: 2.04 ms, total: 52 ms\n",
      "Wall time: 51.1 ms\n"
     ]
    },
    {
     "name": "stderr",
     "output_type": "stream",
     "text": [
      "/var/folders/t9/3dqqcds57z79th4nl53g_s6w0000gn/T/ipykernel_93059/3639142167.py:16: FutureWarning: Unlike other reduction functions (e.g. `skew`, `kurtosis`), the default behavior of `mode` typically preserves the axis it acts along. In SciPy 1.11.0, this behavior will change: the default value of `keepdims` will become False, the `axis` over which the statistic is taken will be eliminated, and the value None will no longer be accepted. Set `keepdims` to True or False to avoid this warning.\n",
      "  lambda x: stats.mode(x)[0][0]])\n",
      "/var/folders/t9/3dqqcds57z79th4nl53g_s6w0000gn/T/ipykernel_93059/3639142167.py:30: FutureWarning: In a future version of pandas all arguments of DataFrame.pivot will be keyword-only.\n",
      "  X = eval_set_tmp\\\n"
     ]
    }
   ],
   "source": [
    "%%time\n",
    "X = build_features_date_pred(df)"
   ]
  },
  {
   "cell_type": "code",
   "execution_count": null,
   "id": "7825f889-6316-4b70-877d-10fabe150fb7",
   "metadata": {},
   "outputs": [],
   "source": []
  },
  {
   "cell_type": "code",
   "execution_count": 20,
   "id": "5627844c-8653-4af0-8d47-7bb1efcdf1db",
   "metadata": {
    "tags": []
   },
   "outputs": [
    {
     "name": "stdout",
     "output_type": "stream",
     "text": [
      "Correlation between series modes and label:\n"
     ]
    },
    {
     "data": {
      "text/plain": [
       "array([[1.        , 0.26613553],\n",
       "       [0.26613553, 1.        ]])"
      ]
     },
     "execution_count": 20,
     "metadata": {},
     "output_type": "execute_result"
    }
   ],
   "source": [
    "print(\"Correlation between series modes and label:\")\n",
    "nonnan = ~(X[['mode', 'y_true']].isna().any(axis=1)).values\n",
    "np.corrcoef(X['mode'].values[nonnan], X.y_true.values[nonnan])"
   ]
  },
  {
   "cell_type": "code",
   "execution_count": null,
   "id": "893204e3-49a2-4a6c-a438-996fc5e27e8d",
   "metadata": {},
   "outputs": [],
   "source": []
  },
  {
   "cell_type": "code",
   "execution_count": 21,
   "id": "052920fc-701f-452a-8991-f974f55bc75e",
   "metadata": {
    "tags": []
   },
   "outputs": [],
   "source": [
    "X_train, X_test = train_test_split(X)"
   ]
  },
  {
   "cell_type": "code",
   "execution_count": null,
   "id": "4784e07f-e9d6-4fdb-ab3c-217e719f39c7",
   "metadata": {},
   "outputs": [],
   "source": []
  },
  {
   "cell_type": "code",
   "execution_count": 22,
   "id": "be12822e-c507-4b46-a236-413f0143c210",
   "metadata": {},
   "outputs": [
    {
     "data": {
      "text/plain": [
       "(60, 41)"
      ]
     },
     "execution_count": 22,
     "metadata": {},
     "output_type": "execute_result"
    }
   ],
   "source": [
    "MinMaxScaler().fit_transform(X_train.drop('y_true', axis=1)).shape"
   ]
  },
  {
   "cell_type": "code",
   "execution_count": 23,
   "id": "1f023b14-3e72-4d5c-b69f-5f21662e7d76",
   "metadata": {},
   "outputs": [
    {
     "data": {
      "text/plain": [
       "(60, 41)"
      ]
     },
     "execution_count": 23,
     "metadata": {},
     "output_type": "execute_result"
    }
   ],
   "source": [
    "X_train.drop('y_true', axis=1).shape"
   ]
  },
  {
   "cell_type": "code",
   "execution_count": null,
   "id": "6b0763a6-151a-4c0d-835b-c44e0acd55c7",
   "metadata": {},
   "outputs": [],
   "source": []
  },
  {
   "cell_type": "code",
   "execution_count": 24,
   "id": "9c52825b-81ea-4964-b265-3b7a093168f4",
   "metadata": {},
   "outputs": [
    {
     "name": "stdout",
     "output_type": "stream",
     "text": [
      "Fitting LinearRegression()...\n",
      "Mean Absolute Error for LinearRegression(): 24.93152 ± 9.78736\n",
      "Mean Absolute Percentage Error for LinearRegression(): 1.35975 ± 1.18295\n",
      "\n",
      "Fitting GradientBoostingRegressor()...\n",
      "Mean Absolute Error for GradientBoostingRegressor(): 13.78828 ± 5.89930\n",
      "Mean Absolute Percentage Error for GradientBoostingRegressor(): 0.53129 ± 0.21246\n",
      "\n",
      "Fitting RandomForestRegressor()...\n",
      "Mean Absolute Error for RandomForestRegressor(): 12.76987 ± 3.85297\n",
      "Mean Absolute Percentage Error for RandomForestRegressor(): 0.68264 ± 0.36340\n",
      "\n",
      "Fitting DecisionTreeRegressor()...\n",
      "Mean Absolute Error for DecisionTreeRegressor(): 15.20000 ± 6.01228\n",
      "Mean Absolute Percentage Error for DecisionTreeRegressor(): 0.49912 ± 0.03527\n",
      "\n"
     ]
    }
   ],
   "source": [
    "models = [\n",
    "    LinearRegression(),\n",
    "    GradientBoostingRegressor(),\n",
    "    RandomForestRegressor(),\n",
    "    DecisionTreeRegressor()\n",
    "]\n",
    "\n",
    "# Define the pipeline with scaling\n",
    "pipeline = Pipeline([\n",
    "    ('scaler', MinMaxScaler()),\n",
    "    ('model', None)  # Placeholder for the model\n",
    "])\n",
    "\n",
    "# Perform cross-validation for each model\n",
    "for m in models:\n",
    "    print(f\"Fitting {m}...\")\n",
    "    \n",
    "    # Set the model in the pipeline\n",
    "     # Set the model in the pipeline\n",
    "    pipeline.set_params(model=m)\n",
    "    \n",
    "    # Perform cross-validation\n",
    "    kf = KFold(n_splits=5, shuffle=True, random_state=42)\n",
    "    mae_cv = []\n",
    "    mape_cv = []\n",
    "    for train_index, test_index in kf.split(X):\n",
    "        X_train_fold, X_test_fold = X.iloc[train_index].drop('y_true', axis=1), X.iloc[test_index].drop('y_true', axis=1)\n",
    "        y_train_fold, y_test_fold = X.iloc[train_index]['y_true'], X.iloc[test_index]['y_true']\n",
    "        \n",
    "        # Fit and predict on the fold\n",
    "        pipeline.fit(X_train_fold, y_train_fold)\n",
    "        y_pred_fold = pipeline.predict(X_test_fold)\n",
    "        \n",
    "        # Calculate MAE and MAPE for the fold\n",
    "        mae_fold = mean_absolute_error(y_test_fold, y_pred_fold)\n",
    "        mape_fold = mean_absolute_percentage_error(y_test_fold, y_pred_fold)\n",
    "        \n",
    "        mae_cv.append(mae_fold)\n",
    "        mape_cv.append(mape_fold)\n",
    "        \n",
    "    # Calculate mean and std of MAE for all folds\n",
    "    mae_mean = np.mean(mae_cv)\n",
    "    mae_std = np.std(mae_cv)\n",
    "    \n",
    "    # Calculate mean and std of MAPE for all folds\n",
    "    mape_mean = np.mean(mape_cv)\n",
    "    mape_std = np.std(mape_cv)\n",
    "    \n",
    "    print(f\"Mean Absolute Error for {m}: {mae_mean:.5f} ± {mae_std:.5f}\")\n",
    "    print(f\"Mean Absolute Percentage Error for {m}: {mape_mean:.5f} ± {mape_std:.5f}\")\n",
    "    \n",
    "    print()"
   ]
  },
  {
   "cell_type": "code",
   "execution_count": null,
   "id": "c4b46521-debb-421e-b797-7089de6ea8e7",
   "metadata": {},
   "outputs": [],
   "source": []
  },
  {
   "cell_type": "code",
   "execution_count": 25,
   "id": "ec76fde6-c131-4c3f-9fcb-9abcc29e8b81",
   "metadata": {
    "tags": []
   },
   "outputs": [
    {
     "name": "stdout",
     "output_type": "stream",
     "text": [
      "Fitting LinearRegression()...\n",
      "Report for LinearRegression() - {'MAE': 22.850420730612406, 'MSE': 2153.181120945298, 'MAPE': 0.6688935519391281}\n",
      "\n",
      "Fitting GradientBoostingRegressor()...\n",
      "Report for GradientBoostingRegressor() - {'MAE': 17.74452737133408, 'MSE': 1588.4694808084803, 'MAPE': 0.3770603515524565}\n",
      "\n",
      "Fitting RandomForestRegressor()...\n",
      "Report for RandomForestRegressor() - {'MAE': 17.706, 'MSE': 1846.4202299999997, 'MAPE': 0.46575822376870013}\n",
      "\n",
      "Fitting DecisionTreeRegressor()...\n",
      "Report for DecisionTreeRegressor() - {'MAE': 16.05, 'MSE': 1385.65, 'MAPE': 0.2895466916282482}\n",
      "\n",
      "CPU times: user 115 ms, sys: 1.94 ms, total: 117 ms\n",
      "Wall time: 116 ms\n"
     ]
    }
   ],
   "source": [
    "%%time\n",
    "\n",
    "# The same but with regular train/test split\n",
    "models = [\n",
    "    LinearRegression(),\n",
    "    GradientBoostingRegressor(),\n",
    "    RandomForestRegressor(),\n",
    "    DecisionTreeRegressor()\n",
    "]\n",
    "\n",
    "for m in models:\n",
    "    print(f\"Fitting {m}...\")\n",
    "    scaler =  MinMaxScaler().fit(X_train.drop('y_true', axis=1))\n",
    "    \n",
    "    m = m.fit(\n",
    "        scaler.transform(X_train.drop('y_true', axis=1)),\n",
    "        y=X_train['y_true']\n",
    "    )\n",
    "    ypred = m.predict(\n",
    "        scaler.transform(X_test.drop('y_true', axis=1)),\n",
    "    )\n",
    "    \n",
    "    report = regression_report(X_test['y_true'], ypred)\n",
    "    print(f\"Report for {m} - {report}\")\n",
    "    \n",
    "    print()"
   ]
  },
  {
   "cell_type": "code",
   "execution_count": 26,
   "id": "960d8616-4d0e-4795-b72c-83bfcad03155",
   "metadata": {
    "tags": []
   },
   "outputs": [
    {
     "name": "stdout",
     "output_type": "stream",
     "text": [
      "Error Percentiles:\n",
      "\tResiduals percentile 0.05 = 0.0\n",
      "\tResiduals percentile 0.25 = 1.0\n",
      "\tResiduals percentile 0.5 = 1.5\n",
      "\tResiduals percentile 0.75 = 2.0\n",
      "\tResiduals percentile 0.95 = 94.45000000000002\n"
     ]
    }
   ],
   "source": [
    "residuals = np.abs(X_test['y_true'] - ypred)\n",
    "\n",
    "print(\"Error Percentiles:\")\n",
    "for q in [0.05, 0.25, 0.5, 0.75, 0.95]:\n",
    "    print(f\"\\tResiduals percentile {q} = {(residuals.quantile(q))}\")"
   ]
  },
  {
   "cell_type": "code",
   "execution_count": 27,
   "id": "e600570c-2574-4afa-b90b-f2ff38fc4082",
   "metadata": {
    "tags": []
   },
   "outputs": [
    {
     "data": {
      "text/plain": [
       "<Axes: >"
      ]
     },
     "execution_count": 27,
     "metadata": {},
     "output_type": "execute_result"
    },
    {
     "data": {
      "image/png": "[encoded data removed]",
      "text/plain": [
       "<Figure size 640x480 with 1 Axes>"
      ]
     },
     "metadata": {},
     "output_type": "display_data"
    }
   ],
   "source": [
    "residuals.hist(bins=30)"
   ]
  },
  {
   "cell_type": "code",
   "execution_count": null,
   "id": "631e5622-2ad6-49c6-b541-9350e553f7bd",
   "metadata": {},
   "outputs": [],
   "source": []
  },
  {
   "cell_type": "code",
   "execution_count": null,
   "id": "a858e5a9-5155-4cae-b605-215ae91c8320",
   "metadata": {},
   "outputs": [],
   "source": []
  },
  {
   "cell_type": "code",
   "execution_count": null,
   "id": "1d68875d-8493-4ea8-9b50-6bfd0cf7a0eb",
   "metadata": {},
   "outputs": [],
   "source": []
  },
  {
   "cell_type": "code",
   "execution_count": null,
   "id": "a15ff58c-b2ef-41aa-8908-5af03bc1c3f9",
   "metadata": {},
   "outputs": [],
   "source": []
  },
  {
   "cell_type": "code",
   "execution_count": null,
   "id": "91fe1a4b-a9b8-4da4-95cd-240d8b18095b",
   "metadata": {},
   "outputs": [],
   "source": []
  },
  {
   "cell_type": "code",
   "execution_count": null,
   "id": "13e87b36-4ec0-4ed6-82d1-0afc06418100",
   "metadata": {},
   "outputs": [],
   "source": []
  },
  {
   "cell_type": "markdown",
   "id": "9a7209b3-7f21-45fc-8f25-189f91a9f6be",
   "metadata": {},
   "source": [
    "Next amount prediction task\n",
    "---\n",
    "\n",
    "Predict the next movement amount"
   ]
  },
  {
   "cell_type": "code",
   "execution_count": 28,
   "id": "0313472f-88f4-4377-9209-88e9f2cdf002",
   "metadata": {
    "tags": []
   },
   "outputs": [],
   "source": [
    "def build_features_amount_pred(df):\n",
    "    eval_set = df.copy()\n",
    "\n",
    "    eval_set = df.sort_values('date').groupby('payment_channel').nth(slice(0, -1)).sort_values('date')\n",
    "    true_next_dates = df.sort_values('date').groupby('payment_channel').tail(1).set_index('payment_channel')\n",
    "\n",
    "    # Days differences\n",
    "    eval_set.loc[:, 'cumdiff']  = eval_set.groupby('payment_channel')['datediff'].cumsum().values\n",
    "    eval_set.loc[:, 'cumbreaks'] = 0  # quick hack. This variable is useless   -> eval_set.groupby('payment_channel')['is_break'].cumsum().values\n",
    "    eval_set.loc[:, 'cummovs']  = eval_set.groupby('payment_channel')['group_position'].diff().fillna(0).groupby('payment_channel').cumsum().values\n",
    "    eval_set.loc[:, 'year_percent'] = eval_set.date.dt.day_of_year / 365\n",
    "    \n",
    "    # Percentiles\n",
    "    historic_ranges = eval_set[(eval_set.datediff > 0)].groupby('payment_channel')['amount'].agg(['min', 'max', \n",
    "                                                                                                   percentile(5), percentile(50),percentile(95), \n",
    "                                                                                                   lambda x: stats.mode(x)[0][0]])\n",
    "    historic_ranges = historic_ranges.rename({'<lambda_0>': 'mode'}, axis=1)\n",
    "\n",
    "    ## TAKE ONLY N LAST MOVEMENTS\n",
    "    eval_set_tmp = eval_set.groupby('payment_channel').tail(N_LAST_MOVS)\n",
    "    \n",
    "    eval_set_tmp = eval_set_tmp.sort_values(['payment_channel', 'date']).drop('group_position', axis=1)\n",
    "    posid = eval_set_tmp.groupby(['payment_channel'])\\\n",
    "                .cumcount().rename('group_position')\n",
    "    \n",
    "    eval_set_tmp['group_position'] = posid\n",
    "    eval_set_tmp = eval_set_tmp.reset_index().drop_duplicates(['payment_channel', 'group_position']).set_index('payment_channel')\n",
    "    \n",
    "    \n",
    "    X = eval_set_tmp\\\n",
    "        .reset_index()[['payment_channel', 'group_position', 'amount', 'cumdiff', 'cumbreaks', 'cummovs', 'year_percent']]\\\n",
    "        .pivot('payment_channel', columns=[\"group_position\"])\n",
    "    \n",
    "    X.columns = [f'amount_{i}' for i in range(N_LAST_MOVS)] +\\\n",
    "                [f'cumdiff_{i}' for i in range(N_LAST_MOVS)] +\\\n",
    "                [f'cumbreaks_{i}' for i in range(N_LAST_MOVS)] +\\\n",
    "                [f'cummovs_{i}' for i in range(N_LAST_MOVS)] +\\\n",
    "                [f'year_percent_{i}' for i in range(N_LAST_MOVS)]\n",
    "    \n",
    "    X = pd.merge(X, eval_set_tmp.loc[~eval_set_tmp.index.duplicated(keep='first')], left_index=True, right_index=True)\n",
    "    \n",
    "    # Add true label (target)\n",
    "    X = X.join(true_next_dates['amount'].rename('y_true'))\n",
    "    X = X.join(historic_ranges)\n",
    "\n",
    "    X = X.loc[:, [c for c in X.columns if c not in blacklist]]\n",
    "\n",
    "    return X.dropna()   # TODO: Check this nan"
   ]
  },
  {
   "cell_type": "markdown",
   "id": "846cb186-9836-456c-89d3-bf49ff449c6a",
   "metadata": {},
   "source": [
    "## Baseline: Predictions without filtering"
   ]
  },
  {
   "cell_type": "code",
   "execution_count": 29,
   "id": "57e24bce-5948-4dab-b2af-6228c591ac57",
   "metadata": {
    "tags": []
   },
   "outputs": [],
   "source": [
    "df = pd.read_parquet(DATASET_PATH).sort_values(['date', 'payment_channel'])"
   ]
  },
  {
   "cell_type": "code",
   "execution_count": 30,
   "id": "629239a3-fca9-4dea-880b-c00bb458cd7c",
   "metadata": {
    "tags": []
   },
   "outputs": [
    {
     "name": "stderr",
     "output_type": "stream",
     "text": [
      "/var/folders/t9/3dqqcds57z79th4nl53g_s6w0000gn/T/ipykernel_93059/3272405687.py:16: FutureWarning: Unlike other reduction functions (e.g. `skew`, `kurtosis`), the default behavior of `mode` typically preserves the axis it acts along. In SciPy 1.11.0, this behavior will change: the default value of `keepdims` will become False, the `axis` over which the statistic is taken will be eliminated, and the value None will no longer be accepted. Set `keepdims` to True or False to avoid this warning.\n",
      "  lambda x: stats.mode(x)[0][0]])\n",
      "/var/folders/t9/3dqqcds57z79th4nl53g_s6w0000gn/T/ipykernel_93059/3272405687.py:30: FutureWarning: In a future version of pandas all arguments of DataFrame.pivot will be keyword-only.\n",
      "  X = eval_set_tmp\\\n"
     ]
    }
   ],
   "source": [
    "X = build_features_amount_pred(df)"
   ]
  },
  {
   "cell_type": "code",
   "execution_count": null,
   "id": "3a176789-163c-4024-a3bf-f274a55b028e",
   "metadata": {},
   "outputs": [],
   "source": []
  },
  {
   "cell_type": "code",
   "execution_count": 31,
   "id": "a597cebd-4ffd-48aa-b8fc-e3307fda3535",
   "metadata": {
    "tags": []
   },
   "outputs": [
    {
     "name": "stdout",
     "output_type": "stream",
     "text": [
      "Correlation between series modes and label:\n"
     ]
    },
    {
     "data": {
      "text/plain": [
       "array([[1.       , 0.7826499],\n",
       "       [0.7826499, 1.       ]])"
      ]
     },
     "execution_count": 31,
     "metadata": {},
     "output_type": "execute_result"
    }
   ],
   "source": [
    "print(\"Correlation between series modes and label:\")\n",
    "nonnan = ~(X[['mode', 'y_true']].isna().any(axis=1)).values\n",
    "np.corrcoef(X['mode'].values[nonnan], X.y_true.values[nonnan])"
   ]
  },
  {
   "cell_type": "code",
   "execution_count": null,
   "id": "953df7be-6659-47e0-83c3-9a57734a9fc2",
   "metadata": {},
   "outputs": [],
   "source": []
  },
  {
   "cell_type": "code",
   "execution_count": 32,
   "id": "6053518d-6b72-446a-a88c-942eaf53a27f",
   "metadata": {
    "tags": []
   },
   "outputs": [],
   "source": [
    "X_train, X_test = train_test_split(X)"
   ]
  },
  {
   "cell_type": "code",
   "execution_count": null,
   "id": "ea5d7b06-234e-44d4-be08-d0cf26439c66",
   "metadata": {},
   "outputs": [],
   "source": []
  },
  {
   "cell_type": "code",
   "execution_count": 33,
   "id": "c3c0bbd8-0c8c-4e66-bdd5-831f7eaaa910",
   "metadata": {},
   "outputs": [
    {
     "name": "stdout",
     "output_type": "stream",
     "text": [
      "Fitting LinearRegression()...\n",
      "Mean Absolute Error for LinearRegression(): 217.78328 ± 15.80796\n",
      "Mean Absolute Percentage Error for LinearRegression(): 1.82898 ± 0.15101\n",
      "\n",
      "Fitting GradientBoostingRegressor()...\n",
      "Mean Absolute Error for GradientBoostingRegressor(): 200.95834 ± 41.46951\n",
      "Mean Absolute Percentage Error for GradientBoostingRegressor(): 1.07403 ± 0.02842\n",
      "\n",
      "Fitting RandomForestRegressor()...\n",
      "Mean Absolute Error for RandomForestRegressor(): 195.77873 ± 41.81228\n",
      "Mean Absolute Percentage Error for RandomForestRegressor(): 0.94355 ± 0.02367\n",
      "\n",
      "Fitting DecisionTreeRegressor()...\n",
      "Mean Absolute Error for DecisionTreeRegressor(): 241.30588 ± 53.06010\n",
      "Mean Absolute Percentage Error for DecisionTreeRegressor(): 1.11200 ± 0.03591\n",
      "\n"
     ]
    }
   ],
   "source": [
    "models = [\n",
    "    LinearRegression(),\n",
    "    GradientBoostingRegressor(),\n",
    "    RandomForestRegressor(),\n",
    "    DecisionTreeRegressor()\n",
    "]\n",
    "\n",
    "# Define the pipeline with scaling\n",
    "pipeline = Pipeline([\n",
    "    ('scaler', MinMaxScaler()),\n",
    "    ('model', None)  # Placeholder for the model\n",
    "])\n",
    "\n",
    "# Perform cross-validation for each model\n",
    "for m in models:\n",
    "    print(f\"Fitting {m}...\")\n",
    "    \n",
    "    # Set the model in the pipeline\n",
    "     # Set the model in the pipeline\n",
    "    pipeline.set_params(model=m)\n",
    "    \n",
    "    # Perform cross-validation\n",
    "    kf = KFold(n_splits=5, shuffle=True, random_state=42)\n",
    "    mae_cv = []\n",
    "    mape_cv = []\n",
    "    for train_index, test_index in kf.split(X):\n",
    "        X_train_fold, X_test_fold = X.iloc[train_index].drop('y_true', axis=1), X.iloc[test_index].drop('y_true', axis=1)\n",
    "        y_train_fold, y_test_fold = X.iloc[train_index]['y_true'], X.iloc[test_index]['y_true']\n",
    "        \n",
    "        # Fit and predict on the fold\n",
    "        pipeline.fit(X_train_fold, y_train_fold)\n",
    "        y_pred_fold = pipeline.predict(X_test_fold)\n",
    "        \n",
    "        # Calculate MAE and MAPE for the fold\n",
    "        mae_fold = mean_absolute_error(y_test_fold, y_pred_fold)\n",
    "        mape_fold = mean_absolute_percentage_error(y_test_fold, y_pred_fold)\n",
    "        \n",
    "        mae_cv.append(mae_fold)\n",
    "        mape_cv.append(mape_fold)\n",
    "        \n",
    "    # Calculate mean and std of MAE for all folds\n",
    "    mae_mean = np.mean(mae_cv)\n",
    "    mae_std = np.std(mae_cv)\n",
    "    \n",
    "    # Calculate mean and std of MAPE for all folds\n",
    "    mape_mean = np.mean(mape_cv)\n",
    "    mape_std = np.std(mape_cv)\n",
    "    \n",
    "    print(f\"Mean Absolute Error for {m}: {mae_mean:.5f} ± {mae_std:.5f}\")\n",
    "    print(f\"Mean Absolute Percentage Error for {m}: {mape_mean:.5f} ± {mape_std:.5f}\")\n",
    "    \n",
    "    print()"
   ]
  },
  {
   "cell_type": "code",
   "execution_count": 34,
   "id": "c20eb92d-af06-46f3-a69a-451d4444178b",
   "metadata": {
    "tags": []
   },
   "outputs": [
    {
     "name": "stdout",
     "output_type": "stream",
     "text": [
      "Fitting LinearRegression()...\n",
      "Report for LinearRegression() - {'MAE': 251.86563413207801, 'MSE': 2032344.9744028817, 'MAPE': 1.5150178711232083}\n",
      "\n",
      "Fitting GradientBoostingRegressor()...\n",
      "Report for GradientBoostingRegressor() - {'MAE': 238.662086223396, 'MSE': 11216116.182783188, 'MAPE': 1.0245991064105593}\n",
      "\n",
      "Fitting RandomForestRegressor()...\n",
      "Report for RandomForestRegressor() - {'MAE': 247.12280488721808, 'MSE': 11382132.135000905, 'MAPE': 0.9441760390708477}\n",
      "\n",
      "Fitting DecisionTreeRegressor()...\n",
      "Report for DecisionTreeRegressor() - {'MAE': 282.2114044038668, 'MSE': 10771302.823821886, 'MAPE': 1.1552998028950865}\n",
      "\n",
      "CPU times: user 29.8 s, sys: 1.39 s, total: 31.2 s\n",
      "Wall time: 29.6 s\n"
     ]
    }
   ],
   "source": [
    "%%time\n",
    "\n",
    "# The same but regular train/test split\n",
    "models = [\n",
    "    LinearRegression(),\n",
    "    GradientBoostingRegressor(),\n",
    "    RandomForestRegressor(),\n",
    "    DecisionTreeRegressor()\n",
    "]\n",
    "\n",
    "for m in models:\n",
    "    print(f\"Fitting {m}...\")\n",
    "    scaler =  MinMaxScaler().fit(X_train.drop('y_true', axis=1))\n",
    "    m = m.fit(\n",
    "        scaler.transform(X_train.drop('y_true', axis=1)),\n",
    "        y=X_train['y_true']\n",
    "    )\n",
    "    ypred = m.predict(\n",
    "        scaler.transform(X_test.drop('y_true', axis=1)),\n",
    "    )\n",
    "    \n",
    "    report = regression_report(X_test['y_true'], ypred)\n",
    "    print(f\"Report for {m} - {report}\")\n",
    "    \n",
    "    print()"
   ]
  },
  {
   "cell_type": "code",
   "execution_count": 35,
   "id": "b7762065-c572-41fe-9c68-225ba4b7bd84",
   "metadata": {
    "tags": []
   },
   "outputs": [
    {
     "name": "stdout",
     "output_type": "stream",
     "text": [
      "Error Percentiles:\n",
      "\tResiduals percentile 0.05 = 0.19149999999999945\n",
      "\tResiduals percentile 0.25 = 6.152499999999999\n",
      "\tResiduals percentile 0.5 = 28.979999999999997\n",
      "\tResiduals percentile 0.75 = 129.34750000000003\n",
      "\tResiduals percentile 0.95 = 866.6349999999998\n"
     ]
    }
   ],
   "source": [
    "residuals = np.abs(X_test['y_true'] - ypred)\n",
    "\n",
    "print(\"Error Percentiles:\")\n",
    "for q in [0.05, 0.25, 0.5, 0.75, 0.95]:\n",
    "    print(f\"\\tResiduals percentile {q} = {(residuals.quantile(q))}\")"
   ]
  },
  {
   "cell_type": "code",
   "execution_count": 36,
   "id": "489af174-be2c-4984-b877-23310104b3ea",
   "metadata": {
    "tags": []
   },
   "outputs": [
    {
     "data": {
      "text/plain": [
       "<Axes: >"
      ]
     },
     "execution_count": 36,
     "metadata": {},
     "output_type": "execute_result"
    },
    {
     "data": {
      "image/png": "[encoded data removed]",
      "text/plain": [
       "<Figure size 640x480 with 1 Axes>"
      ]
     },
     "metadata": {},
     "output_type": "display_data"
    }
   ],
   "source": [
    "residuals.hist(bins=30)"
   ]
  },
  {
   "cell_type": "code",
   "execution_count": null,
   "id": "08688305-3ab3-43c5-9005-c8b6c8eeb53f",
   "metadata": {},
   "outputs": [],
   "source": []
  },
  {
   "cell_type": "code",
   "execution_count": null,
   "id": "a9c73ecf-f8a0-4494-89c3-2da51091ab79",
   "metadata": {},
   "outputs": [],
   "source": []
  },
  {
   "cell_type": "markdown",
   "id": "91bab002-24c6-4277-b9de-42fc1cba297b",
   "metadata": {},
   "source": [
    "## Predictions with filtered dataset"
   ]
  },
  {
   "cell_type": "code",
   "execution_count": 37,
   "id": "ac420033-56cc-4e79-b403-16ebdf1ead2c",
   "metadata": {
    "tags": []
   },
   "outputs": [],
   "source": [
    "df = pd.read_parquet(DATASET_PATH).sort_values(['date', 'payment_channel'])"
   ]
  },
  {
   "cell_type": "code",
   "execution_count": 38,
   "id": "ef373419-1886-4887-900e-0de149176512",
   "metadata": {
    "tags": []
   },
   "outputs": [],
   "source": [
    "# We add the recognized sub-serie IDs and we remove the flagged noise\n",
    "df['payment_channel'] = df['payment_channel'] + '_' + df['cluster_id'].astype(str)\n",
    "\n",
    "if 'is_rec' in df.columns:\n",
    "    df = df.loc[df.is_rec > 0]\n",
    "else:\n",
    "    df = df.loc[df.cluster_id >= 0]"
   ]
  },
  {
   "cell_type": "code",
   "execution_count": 39,
   "id": "5c5d32dc-1e71-4e62-a682-bd8924c24e31",
   "metadata": {
    "tags": []
   },
   "outputs": [
    {
     "name": "stdout",
     "output_type": "stream",
     "text": [
      "CPU times: user 51.8 ms, sys: 4.21 ms, total: 56 ms\n",
      "Wall time: 55.9 ms\n"
     ]
    },
    {
     "name": "stderr",
     "output_type": "stream",
     "text": [
      "/var/folders/t9/3dqqcds57z79th4nl53g_s6w0000gn/T/ipykernel_93059/3272405687.py:16: FutureWarning: Unlike other reduction functions (e.g. `skew`, `kurtosis`), the default behavior of `mode` typically preserves the axis it acts along. In SciPy 1.11.0, this behavior will change: the default value of `keepdims` will become False, the `axis` over which the statistic is taken will be eliminated, and the value None will no longer be accepted. Set `keepdims` to True or False to avoid this warning.\n",
      "  lambda x: stats.mode(x)[0][0]])\n",
      "/var/folders/t9/3dqqcds57z79th4nl53g_s6w0000gn/T/ipykernel_93059/3272405687.py:30: FutureWarning: In a future version of pandas all arguments of DataFrame.pivot will be keyword-only.\n",
      "  X = eval_set_tmp\\\n"
     ]
    }
   ],
   "source": [
    "%%time\n",
    "X = build_features_amount_pred(df)"
   ]
  },
  {
   "cell_type": "code",
   "execution_count": null,
   "id": "85816593-71ee-4eaf-b78b-d0e8121700f5",
   "metadata": {},
   "outputs": [],
   "source": []
  },
  {
   "cell_type": "code",
   "execution_count": 40,
   "id": "ad06b7f9-2c35-4647-b2a7-55988734db2b",
   "metadata": {
    "tags": []
   },
   "outputs": [
    {
     "name": "stdout",
     "output_type": "stream",
     "text": [
      "Correlation between series modes and label:\n"
     ]
    },
    {
     "data": {
      "text/plain": [
       "array([[1.        , 0.99999991],\n",
       "       [0.99999991, 1.        ]])"
      ]
     },
     "execution_count": 40,
     "metadata": {},
     "output_type": "execute_result"
    }
   ],
   "source": [
    "print(\"Correlation between series modes and label:\")\n",
    "nonnan = ~(X[['mode', 'y_true']].isna().any(axis=1)).values\n",
    "np.corrcoef(X['mode'].values[nonnan], X.y_true.values[nonnan])"
   ]
  },
  {
   "cell_type": "code",
   "execution_count": null,
   "id": "813947c3-0871-4a5f-a632-179865cbc247",
   "metadata": {},
   "outputs": [],
   "source": []
  },
  {
   "cell_type": "code",
   "execution_count": 48,
   "id": "200d03b8-d70c-4de4-a448-81c2b749ca48",
   "metadata": {
    "tags": []
   },
   "outputs": [],
   "source": [
    "X_train, X_test = train_test_split(X)"
   ]
  },
  {
   "cell_type": "code",
   "execution_count": null,
   "id": "ec555b3c-ca12-4908-98ed-8b11afdce897",
   "metadata": {},
   "outputs": [],
   "source": []
  },
  {
   "cell_type": "code",
   "execution_count": 49,
   "id": "4e6cd298-3f2f-42e8-9031-0316e4e7c40c",
   "metadata": {},
   "outputs": [
    {
     "name": "stdout",
     "output_type": "stream",
     "text": [
      "Fitting LinearRegression()...\n",
      "Mean Absolute Error for LinearRegression(): 7380268.70721 ± 11742666.37444\n",
      "Mean Absolute Percentage Error for LinearRegression(): 12918.43261 ± 16646.14233\n",
      "\n",
      "Fitting GradientBoostingRegressor()...\n",
      "Mean Absolute Error for GradientBoostingRegressor(): 164.96919 ± 310.63551\n",
      "Mean Absolute Percentage Error for GradientBoostingRegressor(): 0.03947 ± 0.01830\n",
      "\n",
      "Fitting RandomForestRegressor()...\n",
      "Mean Absolute Error for RandomForestRegressor(): 184.44056 ± 304.75107\n",
      "Mean Absolute Percentage Error for RandomForestRegressor(): 0.89119 ± 1.22638\n",
      "\n",
      "Fitting DecisionTreeRegressor()...\n",
      "Mean Absolute Error for DecisionTreeRegressor(): 176.30320 ± 318.56818\n",
      "Mean Absolute Percentage Error for DecisionTreeRegressor(): 0.06518 ± 0.02744\n",
      "\n"
     ]
    }
   ],
   "source": [
    "models = [\n",
    "    LinearRegression(),\n",
    "    GradientBoostingRegressor(),\n",
    "    RandomForestRegressor(),\n",
    "    DecisionTreeRegressor()\n",
    "]\n",
    "\n",
    "# Define the pipeline with scaling\n",
    "pipeline = Pipeline([\n",
    "    ('scaler', MinMaxScaler()),\n",
    "    ('model', None)  # Placeholder for the model\n",
    "])\n",
    "\n",
    "# Perform cross-validation for each model\n",
    "for m in models:\n",
    "    print(f\"Fitting {m}...\")\n",
    "    \n",
    "    # Set the model in the pipeline\n",
    "     # Set the model in the pipeline\n",
    "    pipeline.set_params(model=m)\n",
    "    \n",
    "    # Perform cross-validation\n",
    "    kf = KFold(n_splits=5, shuffle=True, random_state=42)\n",
    "    mae_cv = []\n",
    "    mape_cv = []\n",
    "    for train_index, test_index in kf.split(X):\n",
    "        X_train_fold, X_test_fold = X.iloc[train_index].drop('y_true', axis=1), X.iloc[test_index].drop('y_true', axis=1)\n",
    "        y_train_fold, y_test_fold = X.iloc[train_index]['y_true'], X.iloc[test_index]['y_true']\n",
    "        \n",
    "        # Fit and predict on the fold\n",
    "        pipeline.fit(X_train_fold, y_train_fold)\n",
    "        y_pred_fold = pipeline.predict(X_test_fold)\n",
    "        \n",
    "        # Calculate MAE and MAPE for the fold\n",
    "        mae_fold = mean_absolute_error(y_test_fold, y_pred_fold)\n",
    "        mape_fold = mean_absolute_percentage_error(y_test_fold, y_pred_fold)\n",
    "        \n",
    "        mae_cv.append(mae_fold)\n",
    "        mape_cv.append(mape_fold)\n",
    "        \n",
    "    # Calculate mean and std of MAE for all folds\n",
    "    mae_mean = np.mean(mae_cv)\n",
    "    mae_std = np.std(mae_cv)\n",
    "    \n",
    "    # Calculate mean and std of MAPE for all folds\n",
    "    mape_mean = np.mean(mape_cv)\n",
    "    mape_std = np.std(mape_cv)\n",
    "    \n",
    "    print(f\"Mean Absolute Error for {m}: {mae_mean:.5f} ± {mae_std:.5f}\")\n",
    "    print(f\"Mean Absolute Percentage Error for {m}: {mape_mean:.5f} ± {mape_std:.5f}\")\n",
    "    \n",
    "    print()"
   ]
  },
  {
   "cell_type": "code",
   "execution_count": null,
   "id": "69b41b8e-92b9-492a-bc28-d54af65f28bd",
   "metadata": {},
   "outputs": [],
   "source": []
  },
  {
   "cell_type": "code",
   "execution_count": 43,
   "id": "93204b05-b258-43a8-81e6-42c89738c152",
   "metadata": {
    "tags": []
   },
   "outputs": [
    {
     "name": "stdout",
     "output_type": "stream",
     "text": [
      "Fitting LinearRegression()...\n",
      "Report for LinearRegression() - {'MAE': 2058380201.954744, 'MSE': 4.4004594814318895e+19, 'MAPE': 5143551.342549061}\n",
      "\n",
      "Fitting GradientBoostingRegressor()...\n",
      "Report for GradientBoostingRegressor() - {'MAE': 3.743161663604413, 'MSE': 30.65393528945137, 'MAPE': 0.022178120017214965}\n",
      "\n",
      "Fitting RandomForestRegressor()...\n",
      "Report for RandomForestRegressor() - {'MAE': 20.234139130434688, 'MSE': 2320.811300394781, 'MAPE': 0.5995456041166666}\n",
      "\n",
      "Fitting DecisionTreeRegressor()...\n",
      "Report for DecisionTreeRegressor() - {'MAE': 10.776521739130443, 'MSE': 364.68298260869614, 'MAPE': 0.03423193848574823}\n",
      "\n",
      "CPU times: user 127 ms, sys: 2.29 ms, total: 130 ms\n",
      "Wall time: 132 ms\n"
     ]
    }
   ],
   "source": [
    "%%time\n",
    "\n",
    "# The same but regular train/test split\n",
    "models = [\n",
    "    LinearRegression(),\n",
    "    GradientBoostingRegressor(),\n",
    "    RandomForestRegressor(),\n",
    "    DecisionTreeRegressor()\n",
    "]\n",
    "\n",
    "for m in models:\n",
    "    print(f\"Fitting {m}...\")\n",
    "    scaler =  MinMaxScaler().fit(X_train.drop('y_true', axis=1))\n",
    "    m = m.fit(\n",
    "        scaler.transform(X_train.drop('y_true', axis=1)),\n",
    "        y=X_train['y_true']\n",
    "    )\n",
    "    ypred = m.predict(\n",
    "        scaler.transform(X_test.drop('y_true', axis=1)),\n",
    "    )\n",
    "    \n",
    "    report = regression_report(X_test['y_true'], ypred)\n",
    "    print(f\"Report for {m} - {report}\")\n",
    "    \n",
    "    print()"
   ]
  },
  {
   "cell_type": "code",
   "execution_count": 44,
   "id": "454be1ec-ea90-4bb9-a16d-926396f311f3",
   "metadata": {
    "tags": []
   },
   "outputs": [
    {
     "name": "stdout",
     "output_type": "stream",
     "text": [
      "Error Percentiles:\n",
      "\tResiduals percentile 0.05 = 0.03999999999999776\n",
      "\tResiduals percentile 0.25 = 0.8000000000000114\n",
      "\tResiduals percentile 0.5 = 2.900000000000091\n",
      "\tResiduals percentile 0.75 = 16.75\n",
      "\tResiduals percentile 0.95 = 36.913000000000025\n"
     ]
    }
   ],
   "source": [
    "residuals = np.abs(X_test['y_true'] - ypred)\n",
    "\n",
    "print(\"Error Percentiles:\")\n",
    "for q in [0.05, 0.25, 0.5, 0.75, 0.95]:\n",
    "    print(f\"\\tResiduals percentile {q} = {(residuals.quantile(q))}\")"
   ]
  },
  {
   "cell_type": "code",
   "execution_count": 45,
   "id": "063497cd-ccf4-4623-8587-f0c40991e801",
   "metadata": {
    "tags": []
   },
   "outputs": [
    {
     "data": {
      "text/plain": [
       "<Axes: >"
      ]
     },
     "execution_count": 45,
     "metadata": {},
     "output_type": "execute_result"
    },
    {
     "data": {
      "image/png": "[encoded data removed]",
      "text/plain": [
       "<Figure size 640x480 with 1 Axes>"
      ]
     },
     "metadata": {},
     "output_type": "display_data"
    }
   ],
   "source": [
    "residuals.hist(bins=30)"
   ]
  },
  {
   "cell_type": "code",
   "execution_count": null,
   "id": "10ea5921-9b9a-4fb8-a3fb-0ecad60ae29a",
   "metadata": {},
   "outputs": [],
   "source": []
  },
  {
   "cell_type": "code",
   "execution_count": null,
   "id": "264fde29-6956-412e-8f5b-4458263fe1b2",
   "metadata": {},
   "outputs": [],
   "source": []
  },
  {
   "cell_type": "code",
   "execution_count": null,
   "id": "af3a9f63-fe51-4304-a899-b2fa149ca9a1",
   "metadata": {},
   "outputs": [],
   "source": []
  },
  {
   "cell_type": "code",
   "execution_count": null,
   "id": "c4823c48-a567-42dc-91ca-1130ab73f20a",
   "metadata": {},
   "outputs": [],
   "source": []
  },
  {
   "cell_type": "code",
   "execution_count": null,
   "id": "b668f309-e2da-4f3d-98cc-e0238fcf5836",
   "metadata": {},
   "outputs": [],
   "source": []
  },
  {
   "cell_type": "code",
   "execution_count": null,
   "id": "c1474fdd-8b67-4f15-bdc5-cd55c1bdbb6d",
   "metadata": {},
   "outputs": [],
   "source": []
  },
  {
   "cell_type": "code",
   "execution_count": null,
   "id": "12f0dcd9-8693-4fc8-917f-20cecb454c66",
   "metadata": {},
   "outputs": [],
   "source": []
  }
 ],
 "metadata": {
  "availableInstances": [
   {
    "_defaultOrder": 0,
    "_isFastLaunch": true,
    "category": "General purpose",
    "gpuNum": 0,
    "hideHardwareSpecs": false,
    "memoryGiB": 4,
    "name": "ml.t3.medium",
    "vcpuNum": 2
   },
   {
    "_defaultOrder": 1,
    "_isFastLaunch": false,
    "category": "General purpose",
    "gpuNum": 0,
    "hideHardwareSpecs": false,
    "memoryGiB": 8,
    "name": "ml.t3.large",
    "vcpuNum": 2
   },
   {
    "_defaultOrder": 2,
    "_isFastLaunch": false,
    "category": "General purpose",
    "gpuNum": 0,
    "hideHardwareSpecs": false,
    "memoryGiB": 16,
    "name": "ml.t3.xlarge",
    "vcpuNum": 4
   },
   {
    "_defaultOrder": 3,
    "_isFastLaunch": false,
    "category": "General purpose",
    "gpuNum": 0,
    "hideHardwareSpecs": false,
    "memoryGiB": 32,
    "name": "ml.t3.2xlarge",
    "vcpuNum": 8
   },
   {
    "_defaultOrder": 4,
    "_isFastLaunch": true,
    "category": "General purpose",
    "gpuNum": 0,
    "hideHardwareSpecs": false,
    "memoryGiB": 8,
    "name": "ml.m5.large",
    "vcpuNum": 2
   },
   {
    "_defaultOrder": 5,
    "_isFastLaunch": false,
    "category": "General purpose",
    "gpuNum": 0,
    "hideHardwareSpecs": false,
    "memoryGiB": 16,
    "name": "ml.m5.xlarge",
    "vcpuNum": 4
   },
   {
    "_defaultOrder": 6,
    "_isFastLaunch": false,
    "category": "General purpose",
    "gpuNum": 0,
    "hideHardwareSpecs": false,
    "memoryGiB": 32,
    "name": "ml.m5.2xlarge",
    "vcpuNum": 8
   },
   {
    "_defaultOrder": 7,
    "_isFastLaunch": false,
    "category": "General purpose",
    "gpuNum": 0,
    "hideHardwareSpecs": false,
    "memoryGiB": 64,
    "name": "ml.m5.4xlarge",
    "vcpuNum": 16
   },
   {
    "_defaultOrder": 8,
    "_isFastLaunch": false,
    "category": "General purpose",
    "gpuNum": 0,
    "hideHardwareSpecs": false,
    "memoryGiB": 128,
    "name": "ml.m5.8xlarge",
    "vcpuNum": 32
   },
   {
    "_defaultOrder": 9,
    "_isFastLaunch": false,
    "category": "General purpose",
    "gpuNum": 0,
    "hideHardwareSpecs": false,
    "memoryGiB": 192,
    "name": "ml.m5.12xlarge",
    "vcpuNum": 48
   },
   {
    "_defaultOrder": 10,
    "_isFastLaunch": false,
    "category": "General purpose",
    "gpuNum": 0,
    "hideHardwareSpecs": false,
    "memoryGiB": 256,
    "name": "ml.m5.16xlarge",
    "vcpuNum": 64
   },
   {
    "_defaultOrder": 11,
    "_isFastLaunch": false,
    "category": "General purpose",
    "gpuNum": 0,
    "hideHardwareSpecs": false,
    "memoryGiB": 384,
    "name": "ml.m5.24xlarge",
    "vcpuNum": 96
   },
   {
    "_defaultOrder": 12,
    "_isFastLaunch": false,
    "category": "General purpose",
    "gpuNum": 0,
    "hideHardwareSpecs": false,
    "memoryGiB": 8,
    "name": "ml.m5d.large",
    "vcpuNum": 2
   },
   {
    "_defaultOrder": 13,
    "_isFastLaunch": false,
    "category": "General purpose",
    "gpuNum": 0,
    "hideHardwareSpecs": false,
    "memoryGiB": 16,
    "name": "ml.m5d.xlarge",
    "vcpuNum": 4
   },
   {
    "_defaultOrder": 14,
    "_isFastLaunch": false,
    "category": "General purpose",
    "gpuNum": 0,
    "hideHardwareSpecs": false,
    "memoryGiB": 32,
    "name": "ml.m5d.2xlarge",
    "vcpuNum": 8
   },
   {
    "_defaultOrder": 15,
    "_isFastLaunch": false,
    "category": "General purpose",
    "gpuNum": 0,
    "hideHardwareSpecs": false,
    "memoryGiB": 64,
    "name": "ml.m5d.4xlarge",
    "vcpuNum": 16
   },
   {
    "_defaultOrder": 16,
    "_isFastLaunch": false,
    "category": "General purpose",
    "gpuNum": 0,
    "hideHardwareSpecs": false,
    "memoryGiB": 128,
    "name": "ml.m5d.8xlarge",
    "vcpuNum": 32
   },
   {
    "_defaultOrder": 17,
    "_isFastLaunch": false,
    "category": "General purpose",
    "gpuNum": 0,
    "hideHardwareSpecs": false,
    "memoryGiB": 192,
    "name": "ml.m5d.12xlarge",
    "vcpuNum": 48
   },
   {
    "_defaultOrder": 18,
    "_isFastLaunch": false,
    "category": "General purpose",
    "gpuNum": 0,
    "hideHardwareSpecs": false,
    "memoryGiB": 256,
    "name": "ml.m5d.16xlarge",
    "vcpuNum": 64
   },
   {
    "_defaultOrder": 19,
    "_isFastLaunch": false,
    "category": "General purpose",
    "gpuNum": 0,
    "hideHardwareSpecs": false,
    "memoryGiB": 384,
    "name": "ml.m5d.24xlarge",
    "vcpuNum": 96
   },
   {
    "_defaultOrder": 20,
    "_isFastLaunch": false,
    "category": "General purpose",
    "gpuNum": 0,
    "hideHardwareSpecs": true,
    "memoryGiB": 0,
    "name": "ml.geospatial.interactive",
    "supportedImageNames": [
     "sagemaker-geospatial-v1-0"
    ],
    "vcpuNum": 0
   },
   {
    "_defaultOrder": 21,
    "_isFastLaunch": true,
    "category": "Compute optimized",
    "gpuNum": 0,
    "hideHardwareSpecs": false,
    "memoryGiB": 4,
    "name": "ml.c5.large",
    "vcpuNum": 2
   },
   {
    "_defaultOrder": 22,
    "_isFastLaunch": false,
    "category": "Compute optimized",
    "gpuNum": 0,
    "hideHardwareSpecs": false,
    "memoryGiB": 8,
    "name": "ml.c5.xlarge",
    "vcpuNum": 4
   },
   {
    "_defaultOrder": 23,
    "_isFastLaunch": false,
    "category": "Compute optimized",
    "gpuNum": 0,
    "hideHardwareSpecs": false,
    "memoryGiB": 16,
    "name": "ml.c5.2xlarge",
    "vcpuNum": 8
   },
   {
    "_defaultOrder": 24,
    "_isFastLaunch": false,
    "category": "Compute optimized",
    "gpuNum": 0,
    "hideHardwareSpecs": false,
    "memoryGiB": 32,
    "name": "ml.c5.4xlarge",
    "vcpuNum": 16
   },
   {
    "_defaultOrder": 25,
    "_isFastLaunch": false,
    "category": "Compute optimized",
    "gpuNum": 0,
    "hideHardwareSpecs": false,
    "memoryGiB": 72,
    "name": "ml.c5.9xlarge",
    "vcpuNum": 36
   },
   {
    "_defaultOrder": 26,
    "_isFastLaunch": false,
    "category": "Compute optimized",
    "gpuNum": 0,
    "hideHardwareSpecs": false,
    "memoryGiB": 96,
    "name": "ml.c5.12xlarge",
    "vcpuNum": 48
   },
   {
    "_defaultOrder": 27,
    "_isFastLaunch": false,
    "category": "Compute optimized",
    "gpuNum": 0,
    "hideHardwareSpecs": false,
    "memoryGiB": 144,
    "name": "ml.c5.18xlarge",
    "vcpuNum": 72
   },
   {
    "_defaultOrder": 28,
    "_isFastLaunch": false,
    "category": "Compute optimized",
    "gpuNum": 0,
    "hideHardwareSpecs": false,
    "memoryGiB": 192,
    "name": "ml.c5.24xlarge",
    "vcpuNum": 96
   },
   {
    "_defaultOrder": 29,
    "_isFastLaunch": true,
    "category": "Accelerated computing",
    "gpuNum": 1,
    "hideHardwareSpecs": false,
    "memoryGiB": 16,
    "name": "ml.g4dn.xlarge",
    "vcpuNum": 4
   },
   {
    "_defaultOrder": 30,
    "_isFastLaunch": false,
    "category": "Accelerated computing",
    "gpuNum": 1,
    "hideHardwareSpecs": false,
    "memoryGiB": 32,
    "name": "ml.g4dn.2xlarge",
    "vcpuNum": 8
   },
   {
    "_defaultOrder": 31,
    "_isFastLaunch": false,
    "category": "Accelerated computing",
    "gpuNum": 1,
    "hideHardwareSpecs": false,
    "memoryGiB": 64,
    "name": "ml.g4dn.4xlarge",
    "vcpuNum": 16
   },
   {
    "_defaultOrder": 32,
    "_isFastLaunch": false,
    "category": "Accelerated computing",
    "gpuNum": 1,
    "hideHardwareSpecs": false,
    "memoryGiB": 128,
    "name": "ml.g4dn.8xlarge",
    "vcpuNum": 32
   },
   {
    "_defaultOrder": 33,
    "_isFastLaunch": false,
    "category": "Accelerated computing",
    "gpuNum": 4,
    "hideHardwareSpecs": false,
    "memoryGiB": 192,
    "name": "ml.g4dn.12xlarge",
    "vcpuNum": 48
   },
   {
    "_defaultOrder": 34,
    "_isFastLaunch": false,
    "category": "Accelerated computing",
    "gpuNum": 1,
    "hideHardwareSpecs": false,
    "memoryGiB": 256,
    "name": "ml.g4dn.16xlarge",
    "vcpuNum": 64
   },
   {
    "_defaultOrder": 35,
    "_isFastLaunch": false,
    "category": "Accelerated computing",
    "gpuNum": 1,
    "hideHardwareSpecs": false,
    "memoryGiB": 61,
    "name": "ml.p3.2xlarge",
    "vcpuNum": 8
   },
   {
    "_defaultOrder": 36,
    "_isFastLaunch": false,
    "category": "Accelerated computing",
    "gpuNum": 4,
    "hideHardwareSpecs": false,
    "memoryGiB": 244,
    "name": "ml.p3.8xlarge",
    "vcpuNum": 32
   },
   {
    "_defaultOrder": 37,
    "_isFastLaunch": false,
    "category": "Accelerated computing",
    "gpuNum": 8,
    "hideHardwareSpecs": false,
    "memoryGiB": 488,
    "name": "ml.p3.16xlarge",
    "vcpuNum": 64
   },
   {
    "_defaultOrder": 38,
    "_isFastLaunch": false,
    "category": "Accelerated computing",
    "gpuNum": 8,
    "hideHardwareSpecs": false,
    "memoryGiB": 768,
    "name": "ml.p3dn.24xlarge",
    "vcpuNum": 96
   },
   {
    "_defaultOrder": 39,
    "_isFastLaunch": false,
    "category": "Memory Optimized",
    "gpuNum": 0,
    "hideHardwareSpecs": false,
    "memoryGiB": 16,
    "name": "ml.r5.large",
    "vcpuNum": 2
   },
   {
    "_defaultOrder": 40,
    "_isFastLaunch": false,
    "category": "Memory Optimized",
    "gpuNum": 0,
    "hideHardwareSpecs": false,
    "memoryGiB": 32,
    "name": "ml.r5.xlarge",
    "vcpuNum": 4
   },
   {
    "_defaultOrder": 41,
    "_isFastLaunch": false,
    "category": "Memory Optimized",
    "gpuNum": 0,
    "hideHardwareSpecs": false,
    "memoryGiB": 64,
    "name": "ml.r5.2xlarge",
    "vcpuNum": 8
   },
   {
    "_defaultOrder": 42,
    "_isFastLaunch": false,
    "category": "Memory Optimized",
    "gpuNum": 0,
    "hideHardwareSpecs": false,
    "memoryGiB": 128,
    "name": "ml.r5.4xlarge",
    "vcpuNum": 16
   },
   {
    "_defaultOrder": 43,
    "_isFastLaunch": false,
    "category": "Memory Optimized",
    "gpuNum": 0,
    "hideHardwareSpecs": false,
    "memoryGiB": 256,
    "name": "ml.r5.8xlarge",
    "vcpuNum": 32
   },
   {
    "_defaultOrder": 44,
    "_isFastLaunch": false,
    "category": "Memory Optimized",
    "gpuNum": 0,
    "hideHardwareSpecs": false,
    "memoryGiB": 384,
    "name": "ml.r5.12xlarge",
    "vcpuNum": 48
   },
   {
    "_defaultOrder": 45,
    "_isFastLaunch": false,
    "category": "Memory Optimized",
    "gpuNum": 0,
    "hideHardwareSpecs": false,
    "memoryGiB": 512,
    "name": "ml.r5.16xlarge",
    "vcpuNum": 64
   },
   {
    "_defaultOrder": 46,
    "_isFastLaunch": false,
    "category": "Memory Optimized",
    "gpuNum": 0,
    "hideHardwareSpecs": false,
    "memoryGiB": 768,
    "name": "ml.r5.24xlarge",
    "vcpuNum": 96
   },
   {
    "_defaultOrder": 47,
    "_isFastLaunch": false,
    "category": "Accelerated computing",
    "gpuNum": 1,
    "hideHardwareSpecs": false,
    "memoryGiB": 16,
    "name": "ml.g5.xlarge",
    "vcpuNum": 4
   },
   {
    "_defaultOrder": 48,
    "_isFastLaunch": false,
    "category": "Accelerated computing",
    "gpuNum": 1,
    "hideHardwareSpecs": false,
    "memoryGiB": 32,
    "name": "ml.g5.2xlarge",
    "vcpuNum": 8
   },
   {
    "_defaultOrder": 49,
    "_isFastLaunch": false,
    "category": "Accelerated computing",
    "gpuNum": 1,
    "hideHardwareSpecs": false,
    "memoryGiB": 64,
    "name": "ml.g5.4xlarge",
    "vcpuNum": 16
   },
   {
    "_defaultOrder": 50,
    "_isFastLaunch": false,
    "category": "Accelerated computing",
    "gpuNum": 1,
    "hideHardwareSpecs": false,
    "memoryGiB": 128,
    "name": "ml.g5.8xlarge",
    "vcpuNum": 32
   },
   {
    "_defaultOrder": 51,
    "_isFastLaunch": false,
    "category": "Accelerated computing",
    "gpuNum": 1,
    "hideHardwareSpecs": false,
    "memoryGiB": 256,
    "name": "ml.g5.16xlarge",
    "vcpuNum": 64
   },
   {
    "_defaultOrder": 52,
    "_isFastLaunch": false,
    "category": "Accelerated computing",
    "gpuNum": 4,
    "hideHardwareSpecs": false,
    "memoryGiB": 192,
    "name": "ml.g5.12xlarge",
    "vcpuNum": 48
   },
   {
    "_defaultOrder": 53,
    "_isFastLaunch": false,
    "category": "Accelerated computing",
    "gpuNum": 4,
    "hideHardwareSpecs": false,
    "memoryGiB": 384,
    "name": "ml.g5.24xlarge",
    "vcpuNum": 96
   },
   {
    "_defaultOrder": 54,
    "_isFastLaunch": false,
    "category": "Accelerated computing",
    "gpuNum": 8,
    "hideHardwareSpecs": false,
    "memoryGiB": 768,
    "name": "ml.g5.48xlarge",
    "vcpuNum": 192
   },
   {
    "_defaultOrder": 55,
    "_isFastLaunch": false,
    "category": "Accelerated computing",
    "gpuNum": 8,
    "hideHardwareSpecs": false,
    "memoryGiB": 1152,
    "name": "ml.p4d.24xlarge",
    "vcpuNum": 96
   },
   {
    "_defaultOrder": 56,
    "_isFastLaunch": false,
    "category": "Accelerated computing",
    "gpuNum": 8,
    "hideHardwareSpecs": false,
    "memoryGiB": 1152,
    "name": "ml.p4de.24xlarge",
    "vcpuNum": 96
   },
   {
    "_defaultOrder": 57,
    "_isFastLaunch": false,
    "category": "Accelerated computing",
    "gpuNum": 0,
    "hideHardwareSpecs": false,
    "memoryGiB": 32,
    "name": "ml.trn1.2xlarge",
    "vcpuNum": 8
   },
   {
    "_defaultOrder": 58,
    "_isFastLaunch": false,
    "category": "Accelerated computing",
    "gpuNum": 0,
    "hideHardwareSpecs": false,
    "memoryGiB": 512,
    "name": "ml.trn1.32xlarge",
    "vcpuNum": 128
   },
   {
    "_defaultOrder": 59,
    "_isFastLaunch": false,
    "category": "Accelerated computing",
    "gpuNum": 0,
    "hideHardwareSpecs": false,
    "memoryGiB": 512,
    "name": "ml.trn1n.32xlarge",
    "vcpuNum": 128
   }
  ],
  "instance_type": "ml.t3.large",
  "kernelspec": {
   "display_name": "Python 3 (ipykernel)",
   "language": "python",
   "name": "python3"
  },
  "language_info": {
   "codemirror_mode": {
    "name": "ipython",
    "version": 3
   },
   "file_extension": ".py",
   "mimetype": "text/x-python",
   "name": "python",
   "nbconvert_exporter": "python",
   "pygments_lexer": "ipython3",
   "version": "3.9.16"
  }
 },
 "nbformat": 4,
 "nbformat_minor": 5
}
